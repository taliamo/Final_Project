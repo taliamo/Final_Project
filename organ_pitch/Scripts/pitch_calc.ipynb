{
 "cells": [
  {
   "cell_type": "markdown",
   "metadata": {},
   "source": [
    "##T. Martz-Oberlander, 2015-11-12, CO2 and Speed of Sound\n",
    "\n",
    "### Calculated pitch from CO2 levels\n",
    "\n",
    "Here I use Cramer's equation for frequency of sound from CO2 concentration (1992). \n",
    "\n",
    "freq = a0 + a1(T) + ... + (a9 +a10 +a11(T^2)) +... + a14(xc^2)\n",
    "where xc is the mole fraction of CO2"
   ]
  },
  {
   "cell_type": "code",
   "execution_count": 8,
   "metadata": {
    "collapsed": false
   },
   "outputs": [
    {
     "ename": "NameError",
     "evalue": "name 'temp' is not defined",
     "output_type": "error",
     "traceback": [
      "\u001b[0;31m---------------------------------------------------------------------------\u001b[0m",
      "\u001b[0;31mNameError\u001b[0m                                 Traceback (most recent call last)",
      "\u001b[0;32m<ipython-input-8-1a8436c87500>\u001b[0m in \u001b[0;36m<module>\u001b[0;34m()\u001b[0m\n\u001b[1;32m     13\u001b[0m \u001b[0mxc\u001b[0m \u001b[0;34m=\u001b[0m \u001b[0;36m0.000314\u001b[0m\u001b[0;34m\u001b[0m\u001b[0m\n\u001b[1;32m     14\u001b[0m \u001b[0;34m\u001b[0m\u001b[0m\n\u001b[0;32m---> 15\u001b[0;31m \u001b[0;32mfor\u001b[0m \u001b[0mT\u001b[0m \u001b[0;32min\u001b[0m \u001b[0mtemp\u001b[0m\u001b[0;34m:\u001b[0m\u001b[0;34m\u001b[0m\u001b[0m\n\u001b[0m\u001b[1;32m     16\u001b[0m \u001b[0;34m\u001b[0m\u001b[0m\n\u001b[1;32m     17\u001b[0m     \u001b[0;32mdef\u001b[0m \u001b[0mcramer\u001b[0m\u001b[0;34m(\u001b[0m\u001b[0mCO2\u001b[0m\u001b[0;34m)\u001b[0m\u001b[0;34m:\u001b[0m\u001b[0;34m\u001b[0m\u001b[0m\n",
      "\u001b[0;31mNameError\u001b[0m: name 'temp' is not defined"
     ]
    }
   ],
   "source": [
    "#Make function from Cramer equation for all CO2 values in 'env' dataframe\n",
    "import pandas as pd\n",
    "env = pd.read_table('../Data/CO2May.csv', sep =',')\n",
    "\n",
    "\n",
    "#define coefficients (Cramer, 1992)\n",
    "a0 = 331.5024\n",
    "a1 = 0.603055\n",
    "a2 = -0.000528\n",
    "a9 = -85.20931\n",
    "a10 = -0.228525\n",
    "a14 = 29.179762\n",
    "xc = 0.000314\n",
    "\n",
    "for T in temp:\n",
    "\n",
    "    def cramer(CO2):\n",
    "        '''Calculate pitch from CO2 concentration'''\n",
    "        calc_freq = (a0 + a1(T) + (a9 + a10 + a11(T**2)) + a14(xc**2))\n",
    "    \n",
    "    \n"
   ]
  },
  {
   "cell_type": "code",
   "execution_count": null,
   "metadata": {
    "collapsed": true
   },
   "outputs": [],
   "source": []
  }
 ],
 "metadata": {
  "kernelspec": {
   "display_name": "Python 3",
   "language": "python",
   "name": "python3"
  },
  "language_info": {
   "codemirror_mode": {
    "name": "ipython",
    "version": 3
   },
   "file_extension": ".py",
   "mimetype": "text/x-python",
   "name": "python",
   "nbconvert_exporter": "python",
   "pygments_lexer": "ipython3",
   "version": "3.4.3"
  }
 },
 "nbformat": 4,
 "nbformat_minor": 0
}
