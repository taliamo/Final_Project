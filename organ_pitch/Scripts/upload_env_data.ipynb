{
 "cells": [
  {
   "cell_type": "markdown",
   "metadata": {},
   "source": [
    "## T. Martz-Oberlander, 2015-11-12, CO2 and Speed of Sound\n",
    "### Formatting ENVIRONMENTAL CONDITIONS pipe organ data for Python operations\n",
    "\n",
    "\n",
    "\n",
    "The entire script looks for mathematical relationships between CO2 concentration changes and pitch changes from a pipe organ. This script uploads, cleans data and organizes new dataframes, creates figures, and performs statistical tests on the relationships between variable CO2 and frequency of sound from a note played on a pipe organ.\n",
    "\n",
    "This uploader script:\n",
    "\n",
    "1) Uploads CO2, temp, and RH data files\n",
    "\n",
    "2) Munges it (creates a Date Time column for the time stamps), establishes column contents as floats\n",
    "\n",
    "[  Here I pursue data analysis route 1 (as mentionted in my notebook.md file), which involves comparing one pitch dataframe with one dataframe of environmental characteristics taken at one sensor location. Both dataframes are compared by the time of data recorded. ]\n",
    "\n",
    "\n",
    "\n"
   ]
  },
  {
   "cell_type": "code",
   "execution_count": 1,
   "metadata": {
    "collapsed": true
   },
   "outputs": [],
   "source": [
    "# I import useful libraries (with functions) so I can visualize my data\n",
    "# I use Pandas because this dataset has word/string column titles and I like the readability features of commands and finish visual products that Pandas offers\n",
    "\n",
    "import pandas as pd\n",
    "import matplotlib.pyplot as plt\n",
    "import re\n",
    "import numpy as np\n",
    "\n",
    "%matplotlib inline\n",
    "\n",
    "#I want to be able to easily scroll through this notebook so I limit the length of the appearance of my dataframes \n",
    "from pandas import set_option\n",
    "set_option('display.max_rows', 10)"
   ]
  },
  {
   "cell_type": "markdown",
   "metadata": {},
   "source": [
    "\n",
    "##Uploaded data into Python¶\n"
   ]
  },
  {
   "cell_type": "markdown",
   "metadata": {},
   "source": [
    "First I upload my data set(s). I am working with environmental data from different locations in the church at differnet dates. Files include: environmental characteristics (CO2, temperature (deg C), and relative humidity (RH) (%) measurements). "
   ]
  },
  {
   "cell_type": "code",
   "execution_count": 9,
   "metadata": {
    "collapsed": false
   },
   "outputs": [
    {
     "data": {
      "text/html": [
       "<div>\n",
       "<table border=\"1\" class=\"dataframe\">\n",
       "  <thead>\n",
       "    <tr style=\"text-align: right;\">\n",
       "      <th></th>\n",
       "      <th>test</th>\n",
       "      <th>date_time</th>\n",
       "      <th>temp C</th>\n",
       "      <th>RH %</th>\n",
       "    </tr>\n",
       "  </thead>\n",
       "  <tbody>\n",
       "    <tr>\n",
       "      <th>0</th>\n",
       "      <td>1</td>\n",
       "      <td>04/13/10 12:00:00  PM</td>\n",
       "      <td>22.142</td>\n",
       "      <td>30.78</td>\n",
       "    </tr>\n",
       "    <tr>\n",
       "      <th>1</th>\n",
       "      <td>2</td>\n",
       "      <td>04/13/10 12:01:00  PM</td>\n",
       "      <td>22.046</td>\n",
       "      <td>30.88</td>\n",
       "    </tr>\n",
       "    <tr>\n",
       "      <th>2</th>\n",
       "      <td>3</td>\n",
       "      <td>04/13/10 12:02:00  PM</td>\n",
       "      <td>21.951</td>\n",
       "      <td>30.97</td>\n",
       "    </tr>\n",
       "    <tr>\n",
       "      <th>3</th>\n",
       "      <td>4</td>\n",
       "      <td>04/13/10 12:03:00  PM</td>\n",
       "      <td>21.951</td>\n",
       "      <td>31.10</td>\n",
       "    </tr>\n",
       "    <tr>\n",
       "      <th>4</th>\n",
       "      <td>5</td>\n",
       "      <td>04/13/10 12:04:00  PM</td>\n",
       "      <td>21.855</td>\n",
       "      <td>31.19</td>\n",
       "    </tr>\n",
       "    <tr>\n",
       "      <th>...</th>\n",
       "      <td>...</td>\n",
       "      <td>...</td>\n",
       "      <td>...</td>\n",
       "      <td>...</td>\n",
       "    </tr>\n",
       "    <tr>\n",
       "      <th>26066</th>\n",
       "      <td>26067</td>\n",
       "      <td>2005-01-10 14:26</td>\n",
       "      <td>20.805</td>\n",
       "      <td>38.65</td>\n",
       "    </tr>\n",
       "    <tr>\n",
       "      <th>26067</th>\n",
       "      <td>26068</td>\n",
       "      <td>2005-01-10 14:27</td>\n",
       "      <td>20.805</td>\n",
       "      <td>38.61</td>\n",
       "    </tr>\n",
       "    <tr>\n",
       "      <th>26068</th>\n",
       "      <td>26069</td>\n",
       "      <td>2005-01-10 14:28</td>\n",
       "      <td>20.805</td>\n",
       "      <td>38.61</td>\n",
       "    </tr>\n",
       "    <tr>\n",
       "      <th>26069</th>\n",
       "      <td>26070</td>\n",
       "      <td>2005-01-10 14:29</td>\n",
       "      <td>20.805</td>\n",
       "      <td>38.61</td>\n",
       "    </tr>\n",
       "    <tr>\n",
       "      <th>26070</th>\n",
       "      <td>26071</td>\n",
       "      <td>2005-01-10 14:30</td>\n",
       "      <td>20.805</td>\n",
       "      <td>38.61</td>\n",
       "    </tr>\n",
       "  </tbody>\n",
       "</table>\n",
       "<p>26071 rows × 4 columns</p>\n",
       "</div>"
      ],
      "text/plain": [
       "        test              date_time  temp C   RH %\n",
       "0          1  04/13/10 12:00:00  PM  22.142  30.78\n",
       "1          2  04/13/10 12:01:00  PM  22.046  30.88\n",
       "2          3  04/13/10 12:02:00  PM  21.951  30.97\n",
       "3          4  04/13/10 12:03:00  PM  21.951  31.10\n",
       "4          5  04/13/10 12:04:00  PM  21.855  31.19\n",
       "...      ...                    ...     ...    ...\n",
       "26066  26067       2005-01-10 14:26  20.805  38.65\n",
       "26067  26068       2005-01-10 14:27  20.805  38.61\n",
       "26068  26069       2005-01-10 14:28  20.805  38.61\n",
       "26069  26070       2005-01-10 14:29  20.805  38.61\n",
       "26070  26071       2005-01-10 14:30  20.805  38.61\n",
       "\n",
       "[26071 rows x 4 columns]"
      ]
     },
     "execution_count": 9,
     "metadata": {},
     "output_type": "execute_result"
    }
   ],
   "source": [
    "#I import a pitch data file\n",
    "\n",
    "#comment by nick changed the path you upload that data from making in compatible with clone copies of your project\n",
    "env_choir_div=pd.read_table('../Data/Choir_Division_May.csv', sep=',')\n",
    "\n",
    "#assigning columns names\n",
    "env_choir_div.columns=[['test', 'date_time','temp C', 'RH %']]\n",
    "\n",
    "#I display my dataframe\n",
    "env_choir_div"
   ]
  },
  {
   "cell_type": "code",
   "execution_count": 10,
   "metadata": {
    "collapsed": false
   },
   "outputs": [
    {
     "name": "stdout",
     "output_type": "stream",
     "text": [
      "        test           date_time  temp C   RH %\n",
      "0          1 2010-04-13 12:00:00  22.142  30.78\n",
      "1          2 2010-04-13 12:01:00  22.046  30.88\n",
      "2          3 2010-04-13 12:02:00  21.951  30.97\n",
      "3          4 2010-04-13 12:03:00  21.951  31.10\n",
      "4          5 2010-04-13 12:04:00  21.855  31.19\n",
      "...      ...                 ...     ...    ...\n",
      "26066  26067 2005-01-10 14:26:00  20.805  38.65\n",
      "26067  26068 2005-01-10 14:27:00  20.805  38.61\n",
      "26068  26069 2005-01-10 14:28:00  20.805  38.61\n",
      "26069  26070 2005-01-10 14:29:00  20.805  38.61\n",
      "26070  26071 2005-01-10 14:30:00  20.805  38.61\n",
      "\n",
      "[26071 rows x 4 columns]\n"
     ]
    },
    {
     "data": {
      "text/plain": [
       "test                  int64\n",
       "date_time    datetime64[ns]\n",
       "temp C              float64\n",
       "RH %                float64\n",
       "dtype: object"
      ]
     },
     "execution_count": 10,
     "metadata": {},
     "output_type": "execute_result"
    }
   ],
   "source": [
    "#comment by nick changing your data time variable to actual values of time. \n",
    "env_choir_div['date_time']= pd.to_datetime(env_choir_div['date_time'])\n",
    "\n",
    "#print the new table and the type of data. \n",
    "print(env_choir_div)\n",
    "\n",
    "env_choir_div.dtypes"
   ]
  },
  {
   "cell_type": "markdown",
   "metadata": {},
   "source": [
    "##Next\n",
    "###1. Find the average pitch value for each date_time\n",
    "###2. Select out the pitch data for one division at a time. Make an argument\n",
    "###3. Append other pitch files¶\n"
   ]
  },
  {
   "cell_type": "code",
   "execution_count": null,
   "metadata": {
    "collapsed": true
   },
   "outputs": [],
   "source": [
    "#make a loop \n",
    "\n",
    "for line in "
   ]
  },
  {
   "cell_type": "code",
   "execution_count": null,
   "metadata": {
    "collapsed": true
   },
   "outputs": [],
   "source": []
  },
  {
   "cell_type": "code",
   "execution_count": null,
   "metadata": {
    "collapsed": true
   },
   "outputs": [],
   "source": []
  },
  {
   "cell_type": "code",
   "execution_count": null,
   "metadata": {
    "collapsed": true
   },
   "outputs": [],
   "source": []
  }
 ],
 "metadata": {
  "kernelspec": {
   "display_name": "Python 3",
   "language": "python",
   "name": "python3"
  },
  "language_info": {
   "codemirror_mode": {
    "name": "ipython",
    "version": 3
   },
   "file_extension": ".py",
   "mimetype": "text/x-python",
   "name": "python",
   "nbconvert_exporter": "python",
   "pygments_lexer": "ipython3",
   "version": "3.4.3"
  }
 },
 "nbformat": 4,
 "nbformat_minor": 0
}
