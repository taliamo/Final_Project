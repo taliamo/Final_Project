{
 "cells": [
  {
   "cell_type": "markdown",
   "metadata": {},
   "source": [
    "## T. Martz-Oberlander, 2015-11-12, CO2 and Speed of Sound\n",
    "### Formatting ENVIRONMENTAL CONDITIONS pipe organ data for Python operations\n",
    "\n",
    "NOTE: Here, pitch and frequency are used interchangeably to signify the speed of sound from organ pipes.\n",
    "\n",
    "The entire script looks for mathematical relationships between CO2 concentration changes and pitch changes from a pipe organ. This script uploads, cleans data and organizes new dataframes, creates figures, and performs statistical tests on the relationships between variable CO2 and frequency of sound from a note played on a pipe organ.\n",
    "\n",
    "This uploader script:\n",
    "\n",
    "1) Uploads CO2, temp, and RH data files;\n",
    "\n",
    "2) Munges it (creates a Date Time column for the time stamps), establishes column contents as floats;\n",
    "\n",
    "3) Calculates expected frequency, as per Cramer's equation;\n",
    "\n",
    "4) Imports output from pitch_data.py script, the dataframe with measured frequency;\n",
    "\n",
    "5) Plots expected frequency curve, CO2 (ppm) curve, and measured pitch points in a figure.\n",
    "\n",
    "[  Here I pursue data analysis route 1 (as mentionted in my organ_pitch/notebook.md file), which involves comparing one pitch dataframe with one dataframe of environmental characteristics taken at one sensor location. Both dataframes are compared by the time of data recorded. ]\n",
    "\n",
    "\n",
    "\n"
   ]
  },
  {
   "cell_type": "code",
   "execution_count": 1,
   "metadata": {
    "collapsed": true
   },
   "outputs": [],
   "source": [
    "# I import useful libraries (with functions) so I can visualize my data\n",
    "# I use Pandas because this dataset has word/string column titles and I like the readability features of commands and finish visual products that Pandas offers\n",
    "\n",
    "import pandas as pd\n",
    "import matplotlib.pyplot as plt\n",
    "import re\n",
    "import numpy as np\n",
    "\n",
    "%matplotlib inline\n",
    "\n",
    "#I want to be able to easily scroll through this notebook so I limit the length of the appearance of my dataframes \n",
    "from pandas import set_option\n",
    "set_option('display.max_rows', 10)"
   ]
  },
  {
   "cell_type": "markdown",
   "metadata": {},
   "source": [
    "\n",
    "##Uploaded RH and temp data into Python¶\n"
   ]
  },
  {
   "cell_type": "markdown",
   "metadata": {},
   "source": [
    "First I upload my data set(s). I am working with environmental data from different locations in the church at differnet dates. Files include: environmental characteristics (CO2, temperature (deg C), and relative humidity (RH) (%) measurements). \n",
    "\n",
    "I can discard the CO2_2 column values since they are false measurements logged from an empty input jack in the CO2 HOBOWare ^(r) device. "
   ]
  },
  {
   "cell_type": "code",
   "execution_count": 12,
   "metadata": {
    "collapsed": false
   },
   "outputs": [
    {
     "data": {
      "text/html": [
       "<div>\n",
       "<table border=\"1\" class=\"dataframe\">\n",
       "  <thead>\n",
       "    <tr style=\"text-align: right;\">\n",
       "      <th></th>\n",
       "      <th>test</th>\n",
       "      <th>time</th>\n",
       "      <th>temp C</th>\n",
       "      <th>RH %</th>\n",
       "      <th>CO2_1</th>\n",
       "      <th>CO2_2</th>\n",
       "    </tr>\n",
       "  </thead>\n",
       "  <tbody>\n",
       "    <tr>\n",
       "      <th>0</th>\n",
       "      <td>1</td>\n",
       "      <td>04/17/10 11:00:00  AM</td>\n",
       "      <td>20.650</td>\n",
       "      <td>35.046</td>\n",
       "      <td>452.4</td>\n",
       "      <td>689.9</td>\n",
       "    </tr>\n",
       "    <tr>\n",
       "      <th>1</th>\n",
       "      <td>2</td>\n",
       "      <td>04/17/10 11:02:00  AM</td>\n",
       "      <td>20.579</td>\n",
       "      <td>35.105</td>\n",
       "      <td>450.5</td>\n",
       "      <td>677.0</td>\n",
       "    </tr>\n",
       "    <tr>\n",
       "      <th>2</th>\n",
       "      <td>3</td>\n",
       "      <td>04/17/10 11:04:00  AM</td>\n",
       "      <td>20.507</td>\n",
       "      <td>35.229</td>\n",
       "      <td>450.5</td>\n",
       "      <td>663.6</td>\n",
       "    </tr>\n",
       "    <tr>\n",
       "      <th>3</th>\n",
       "      <td>4</td>\n",
       "      <td>04/17/10 11:06:00  AM</td>\n",
       "      <td>20.460</td>\n",
       "      <td>35.291</td>\n",
       "      <td>448.7</td>\n",
       "      <td>652.0</td>\n",
       "    </tr>\n",
       "    <tr>\n",
       "      <th>4</th>\n",
       "      <td>5</td>\n",
       "      <td>04/17/10 11:08:00  AM</td>\n",
       "      <td>20.412</td>\n",
       "      <td>35.352</td>\n",
       "      <td>442.0</td>\n",
       "      <td>641.0</td>\n",
       "    </tr>\n",
       "    <tr>\n",
       "      <th>...</th>\n",
       "      <td>...</td>\n",
       "      <td>...</td>\n",
       "      <td>...</td>\n",
       "      <td>...</td>\n",
       "      <td>...</td>\n",
       "      <td>...</td>\n",
       "    </tr>\n",
       "    <tr>\n",
       "      <th>10853</th>\n",
       "      <td>10854</td>\n",
       "      <td>2005-02-10 12:46</td>\n",
       "      <td>21.581</td>\n",
       "      <td>44.604</td>\n",
       "      <td>501.2</td>\n",
       "      <td>483.5</td>\n",
       "    </tr>\n",
       "    <tr>\n",
       "      <th>10854</th>\n",
       "      <td>10855</td>\n",
       "      <td>2005-02-10 12:48</td>\n",
       "      <td>21.581</td>\n",
       "      <td>44.604</td>\n",
       "      <td>504.3</td>\n",
       "      <td>482.9</td>\n",
       "    </tr>\n",
       "    <tr>\n",
       "      <th>10855</th>\n",
       "      <td>10856</td>\n",
       "      <td>2005-02-10 12:50</td>\n",
       "      <td>21.581</td>\n",
       "      <td>44.604</td>\n",
       "      <td>503.7</td>\n",
       "      <td>482.3</td>\n",
       "    </tr>\n",
       "    <tr>\n",
       "      <th>10856</th>\n",
       "      <td>10857</td>\n",
       "      <td>2005-02-10 12:52</td>\n",
       "      <td>21.604</td>\n",
       "      <td>44.575</td>\n",
       "      <td>503.1</td>\n",
       "      <td>481.7</td>\n",
       "    </tr>\n",
       "    <tr>\n",
       "      <th>10857</th>\n",
       "      <td>10858</td>\n",
       "      <td>2005-02-10 12:54</td>\n",
       "      <td>21.604</td>\n",
       "      <td>44.575</td>\n",
       "      <td>498.8</td>\n",
       "      <td>480.5</td>\n",
       "    </tr>\n",
       "  </tbody>\n",
       "</table>\n",
       "<p>10858 rows × 6 columns</p>\n",
       "</div>"
      ],
      "text/plain": [
       "        test                   time  temp C    RH %  CO2_1  CO2_2\n",
       "0          1  04/17/10 11:00:00  AM  20.650  35.046  452.4  689.9\n",
       "1          2  04/17/10 11:02:00  AM  20.579  35.105  450.5  677.0\n",
       "2          3  04/17/10 11:04:00  AM  20.507  35.229  450.5  663.6\n",
       "3          4  04/17/10 11:06:00  AM  20.460  35.291  448.7  652.0\n",
       "4          5  04/17/10 11:08:00  AM  20.412  35.352  442.0  641.0\n",
       "...      ...                    ...     ...     ...    ...    ...\n",
       "10853  10854       2005-02-10 12:46  21.581  44.604  501.2  483.5\n",
       "10854  10855       2005-02-10 12:48  21.581  44.604  504.3  482.9\n",
       "10855  10856       2005-02-10 12:50  21.581  44.604  503.7  482.3\n",
       "10856  10857       2005-02-10 12:52  21.604  44.575  503.1  481.7\n",
       "10857  10858       2005-02-10 12:54  21.604  44.575  498.8  480.5\n",
       "\n",
       "[10858 rows x 6 columns]"
      ]
     },
     "execution_count": 12,
     "metadata": {},
     "output_type": "execute_result"
    }
   ],
   "source": [
    "#I import a temp and RH data file\n",
    "env=pd.read_table('../Data/CO2May.csv', sep=',')\n",
    "\n",
    "#assigning columns names\n",
    "env.columns=[['test', 'time','temp C', 'RH %', 'CO2_1', 'CO2_2']]\n",
    "\n",
    "#I display my dataframe\n",
    "env"
   ]
  },
  {
   "cell_type": "code",
   "execution_count": 48,
   "metadata": {
    "collapsed": false
   },
   "outputs": [
    {
     "data": {
      "image/png": "[encoded data removed]",
      "text/plain": [
       "<matplotlib.figure.Figure at 0x1079f3780>"
      ]
     },
     "metadata": {},
     "output_type": "display_data"
    },
    {
     "ename": "SyntaxError",
     "evalue": "'return' outside function (<ipython-input-48-061d800138c8>, line 10)",
     "output_type": "error",
     "traceback": [
      "\u001b[0;36m  File \u001b[0;32m\"<ipython-input-48-061d800138c8>\"\u001b[0;36m, line \u001b[0;32m10\u001b[0m\n\u001b[0;31m    return(fig)\u001b[0m\n\u001b[0m               ^\u001b[0m\n\u001b[0;31mSyntaxError\u001b[0m\u001b[0;31m:\u001b[0m 'return' outside function\n"
     ]
    },
    {
     "data": {
      "text/plain": [
       "<matplotlib.figure.Figure at 0x107e48b38>"
      ]
     },
     "metadata": {},
     "output_type": "display_data"
    }
   ],
   "source": [
    "#Plot CO2 \n",
    "\n",
    "plt.plot(env['CO2_1'], color='navy')\n",
    "\n",
    "plt.title('CO2 Concentration Spikes with Chapel Population')\n",
    "plt.ylabel('CO2 (ppm)', color='navy')\n",
    "plt.xlabel('Sample number (2 mins)')\n",
    "plt.show()\n",
    "plt.savefig('CO2_figure.pdf')\n",
    "return(fig)\n"
   ]
  },
  {
   "cell_type": "code",
   "execution_count": 3,
   "metadata": {
    "collapsed": false
   },
   "outputs": [
    {
     "name": "stdout",
     "output_type": "stream",
     "text": [
      "        test                time  temp C    RH %  CO2_1  CO2_2\n",
      "0          1 2010-04-17 11:00:00  20.650  35.046  452.4  689.9\n",
      "1          2 2010-04-17 11:02:00  20.579  35.105  450.5  677.0\n",
      "2          3 2010-04-17 11:04:00  20.507  35.229  450.5  663.6\n",
      "3          4 2010-04-17 11:06:00  20.460  35.291  448.7  652.0\n",
      "4          5 2010-04-17 11:08:00  20.412  35.352  442.0  641.0\n",
      "...      ...                 ...     ...     ...    ...    ...\n",
      "10853  10854 2005-02-10 12:46:00  21.581  44.604  501.2  483.5\n",
      "10854  10855 2005-02-10 12:48:00  21.581  44.604  504.3  482.9\n",
      "10855  10856 2005-02-10 12:50:00  21.581  44.604  503.7  482.3\n",
      "10856  10857 2005-02-10 12:52:00  21.604  44.575  503.1  481.7\n",
      "10857  10858 2005-02-10 12:54:00  21.604  44.575  498.8  480.5\n",
      "\n",
      "[10858 rows x 6 columns]\n"
     ]
    },
    {
     "data": {
      "text/plain": [
       "test               int64\n",
       "time      datetime64[ns]\n",
       "temp C           float64\n",
       "RH %             float64\n",
       "CO2_1            float64\n",
       "CO2_2            float64\n",
       "dtype: object"
      ]
     },
     "execution_count": 3,
     "metadata": {},
     "output_type": "execute_result"
    }
   ],
   "source": [
    "#change data time variable to actual values of time. \n",
    "env['time']= pd.to_datetime(env['time'])\n",
    "\n",
    "#print the new table and the type of data. \n",
    "print(env)\n",
    "\n",
    "env.dtypes"
   ]
  },
  {
   "cell_type": "code",
   "execution_count": null,
   "metadata": {
    "collapsed": false
   },
   "outputs": [],
   "source": []
  },
  {
   "cell_type": "markdown",
   "metadata": {},
   "source": [
    "##Next\n",
    "##1. Create a function for expected pitch (frequency of sound waves) from CO2 data\n",
    "##2. Add expected_frequency to dataframe\n"
   ]
  },
  {
   "cell_type": "markdown",
   "metadata": {
    "collapsed": true
   },
   "source": [
    "### Calculated pitch from CO2 levels\n",
    "\n",
    "Here I use Cramer's equation for frequency of sound from CO2 concentration (1992). \n",
    "\n",
    "freq = a0 + a1(T) + ... + (a9 +...) +... + a14(xc^2)\n",
    "where xc is the mole fraction of CO2 and T is temperature. Full derivation of these equations can be found in the \"Doc\" directory.\n",
    "\n",
    "I will later plot measured pitch (frequency) data points from my \"pitch\" data frame on top of these calculated frequency values for comparison."
   ]
  },
  {
   "cell_type": "code",
   "execution_count": 4,
   "metadata": {
    "collapsed": false
   },
   "outputs": [],
   "source": [
    "#Here I am trying to create a function for the above equation. \n",
    "#I want to plug in each CO2_ave value for a time stamp (row) from the \"env\" data frame above. \n",
    "\n",
    "#define coefficients (Cramer, 1992)\n",
    "a0 = 331.5024\n",
    "#a1 = 0.603055\n",
    "#a2 = -0.000528\n",
    "a9 = -(-85.20931) #need to account for negative values\n",
    "#a10 = -0.228525\n",
    "a14 = 29.179762\n",
    "\n",
    "#xc =  CO2 values from dataframe\n"
   ]
  },
  {
   "cell_type": "code",
   "execution_count": 7,
   "metadata": {
    "collapsed": false
   },
   "outputs": [
    {
     "ename": "AssertionError",
     "evalue": "Equation failure",
     "output_type": "error",
     "traceback": [
      "\u001b[0;31m---------------------------------------------------------------------------\u001b[0m",
      "\u001b[0;31mAssertionError\u001b[0m                            Traceback (most recent call last)",
      "\u001b[0;32m<ipython-input-7-f64a6c70166a>\u001b[0m in \u001b[0;36m<module>\u001b[0;34m()\u001b[0m\n\u001b[1;32m      4\u001b[0m     \u001b[0;32mreturn\u001b[0m\u001b[0;34m(\u001b[0m\u001b[0;34m)\u001b[0m\u001b[0;34m\u001b[0m\u001b[0m\n\u001b[1;32m      5\u001b[0m \u001b[0;34m\u001b[0m\u001b[0m\n\u001b[0;32m----> 6\u001b[0;31m \u001b[0mtest_cramer\u001b[0m\u001b[0;34m(\u001b[0m\u001b[0;34m)\u001b[0m\u001b[0;34m\u001b[0m\u001b[0m\n\u001b[0m",
      "\u001b[0;32m<ipython-input-7-f64a6c70166a>\u001b[0m in \u001b[0;36mtest_cramer\u001b[0;34m()\u001b[0m\n\u001b[1;32m      1\u001b[0m \u001b[0;31m#test function\u001b[0m\u001b[0;34m\u001b[0m\u001b[0;34m\u001b[0m\u001b[0m\n\u001b[1;32m      2\u001b[0m \u001b[0;32mdef\u001b[0m \u001b[0mtest_cramer\u001b[0m\u001b[0;34m(\u001b[0m\u001b[0;34m)\u001b[0m\u001b[0;34m:\u001b[0m\u001b[0;34m\u001b[0m\u001b[0m\n\u001b[0;32m----> 3\u001b[0;31m     \u001b[0;32massert\u001b[0m \u001b[0ma0\u001b[0m \u001b[0;34m+\u001b[0m \u001b[0;34m(\u001b[0m\u001b[0;34m(\u001b[0m\u001b[0ma9\u001b[0m\u001b[0;34m)\u001b[0m\u001b[0;34m*\u001b[0m\u001b[0;36m400\u001b[0m\u001b[0;34m)\u001b[0m\u001b[0;34m/\u001b[0m\u001b[0;36m100\u001b[0m \u001b[0;34m+\u001b[0m \u001b[0ma14\u001b[0m\u001b[0;34m*\u001b[0m\u001b[0;34m(\u001b[0m\u001b[0;34m(\u001b[0m\u001b[0;36m400\u001b[0m\u001b[0;34m/\u001b[0m\u001b[0;36m1000000\u001b[0m\u001b[0;34m)\u001b[0m\u001b[0;34m**\u001b[0m\u001b[0;36m2\u001b[0m\u001b[0;34m)\u001b[0m \u001b[0;34m==\u001b[0m \u001b[0;36m672.\u001b[0m\u001b[0;34m,\u001b[0m \u001b[0;34m'Equation failure'\u001b[0m\u001b[0;34m\u001b[0m\u001b[0m\n\u001b[0m\u001b[1;32m      4\u001b[0m     \u001b[0;32mreturn\u001b[0m\u001b[0;34m(\u001b[0m\u001b[0;34m)\u001b[0m\u001b[0;34m\u001b[0m\u001b[0m\n\u001b[1;32m      5\u001b[0m \u001b[0;34m\u001b[0m\u001b[0m\n",
      "\u001b[0;31mAssertionError\u001b[0m: Equation failure"
     ]
    }
   ],
   "source": [
    "#test function\n",
    "def test_cramer():\n",
    "    assert a0 + ((a9)*400)/100 + a14*((400/1000000)**2) == 672.33964466, 'Equation failure'\n",
    "    return()\n",
    "\n",
    "test_cramer()"
   ]
  },
  {
   "cell_type": "code",
   "execution_count": 21,
   "metadata": {
    "collapsed": true
   },
   "outputs": [],
   "source": [
    "#This function also converts ppm to mole fraction (just quantity as a proportion of total)\n",
    "def cramer(data):\n",
    "    '''Calculate pitch from CO2_1 concentration'''\n",
    " \n",
    "    calc_freq = a0 + ((a9)*data)/100 + a14*((data/1000000)**2)\n",
    " \n",
    "    return(calc_freq)"
   ]
  },
  {
   "cell_type": "code",
   "execution_count": null,
   "metadata": {
    "collapsed": false
   },
   "outputs": [],
   "source": [
    "#run the cramer values for the calculated frequency \n",
    "#calc_freq = cramer(env['calc_freq'])"
   ]
  },
  {
   "cell_type": "code",
   "execution_count": null,
   "metadata": {
    "collapsed": false
   },
   "outputs": [],
   "source": [
    "#define the new column as the output of the cramer function\n",
    "#env['calc_freq'] = calc_freq"
   ]
  },
  {
   "cell_type": "code",
   "execution_count": 16,
   "metadata": {
    "collapsed": false
   },
   "outputs": [
    {
     "data": {
      "text/plain": [
       "0        716.989324\n",
       "1        715.370347\n",
       "2        715.370347\n",
       "3        713.836580\n",
       "4        708.127556\n",
       "            ...    \n",
       "10853    758.571469\n",
       "10854    761.212958\n",
       "10855    760.701702\n",
       "10856    760.190446\n",
       "10857    756.526446\n",
       "Name: CO2_1, dtype: float64"
      ]
     },
     "execution_count": 16,
     "metadata": {},
     "output_type": "execute_result"
    }
   ],
   "source": [
    "#Run the function for the input column (CO2 values)\n",
    "env['calc_freq'] = cramer(env['CO2_1'])\n",
    "\n",
    "cramer(env['CO2_1'])"
   ]
  },
  {
   "cell_type": "code",
   "execution_count": 17,
   "metadata": {
    "collapsed": false
   },
   "outputs": [
    {
     "data": {
      "text/html": [
       "<div>\n",
       "<table border=\"1\" class=\"dataframe\">\n",
       "  <thead>\n",
       "    <tr style=\"text-align: right;\">\n",
       "      <th></th>\n",
       "      <th>test</th>\n",
       "      <th>time</th>\n",
       "      <th>temp C</th>\n",
       "      <th>RH %</th>\n",
       "      <th>CO2_1</th>\n",
       "      <th>CO2_2</th>\n",
       "      <th>calc_freq</th>\n",
       "    </tr>\n",
       "  </thead>\n",
       "  <tbody>\n",
       "    <tr>\n",
       "      <th>0</th>\n",
       "      <td>1</td>\n",
       "      <td>04/17/10 11:00:00  AM</td>\n",
       "      <td>20.650</td>\n",
       "      <td>35.046</td>\n",
       "      <td>452.4</td>\n",
       "      <td>689.9</td>\n",
       "      <td>716.989324</td>\n",
       "    </tr>\n",
       "    <tr>\n",
       "      <th>1</th>\n",
       "      <td>2</td>\n",
       "      <td>04/17/10 11:02:00  AM</td>\n",
       "      <td>20.579</td>\n",
       "      <td>35.105</td>\n",
       "      <td>450.5</td>\n",
       "      <td>677.0</td>\n",
       "      <td>715.370347</td>\n",
       "    </tr>\n",
       "    <tr>\n",
       "      <th>2</th>\n",
       "      <td>3</td>\n",
       "      <td>04/17/10 11:04:00  AM</td>\n",
       "      <td>20.507</td>\n",
       "      <td>35.229</td>\n",
       "      <td>450.5</td>\n",
       "      <td>663.6</td>\n",
       "      <td>715.370347</td>\n",
       "    </tr>\n",
       "    <tr>\n",
       "      <th>3</th>\n",
       "      <td>4</td>\n",
       "      <td>04/17/10 11:06:00  AM</td>\n",
       "      <td>20.460</td>\n",
       "      <td>35.291</td>\n",
       "      <td>448.7</td>\n",
       "      <td>652.0</td>\n",
       "      <td>713.836580</td>\n",
       "    </tr>\n",
       "    <tr>\n",
       "      <th>4</th>\n",
       "      <td>5</td>\n",
       "      <td>04/17/10 11:08:00  AM</td>\n",
       "      <td>20.412</td>\n",
       "      <td>35.352</td>\n",
       "      <td>442.0</td>\n",
       "      <td>641.0</td>\n",
       "      <td>708.127556</td>\n",
       "    </tr>\n",
       "    <tr>\n",
       "      <th>...</th>\n",
       "      <td>...</td>\n",
       "      <td>...</td>\n",
       "      <td>...</td>\n",
       "      <td>...</td>\n",
       "      <td>...</td>\n",
       "      <td>...</td>\n",
       "      <td>...</td>\n",
       "    </tr>\n",
       "    <tr>\n",
       "      <th>10853</th>\n",
       "      <td>10854</td>\n",
       "      <td>2005-02-10 12:46</td>\n",
       "      <td>21.581</td>\n",
       "      <td>44.604</td>\n",
       "      <td>501.2</td>\n",
       "      <td>483.5</td>\n",
       "      <td>758.571469</td>\n",
       "    </tr>\n",
       "    <tr>\n",
       "      <th>10854</th>\n",
       "      <td>10855</td>\n",
       "      <td>2005-02-10 12:48</td>\n",
       "      <td>21.581</td>\n",
       "      <td>44.604</td>\n",
       "      <td>504.3</td>\n",
       "      <td>482.9</td>\n",
       "      <td>761.212958</td>\n",
       "    </tr>\n",
       "    <tr>\n",
       "      <th>10855</th>\n",
       "      <td>10856</td>\n",
       "      <td>2005-02-10 12:50</td>\n",
       "      <td>21.581</td>\n",
       "      <td>44.604</td>\n",
       "      <td>503.7</td>\n",
       "      <td>482.3</td>\n",
       "      <td>760.701702</td>\n",
       "    </tr>\n",
       "    <tr>\n",
       "      <th>10856</th>\n",
       "      <td>10857</td>\n",
       "      <td>2005-02-10 12:52</td>\n",
       "      <td>21.604</td>\n",
       "      <td>44.575</td>\n",
       "      <td>503.1</td>\n",
       "      <td>481.7</td>\n",
       "      <td>760.190446</td>\n",
       "    </tr>\n",
       "    <tr>\n",
       "      <th>10857</th>\n",
       "      <td>10858</td>\n",
       "      <td>2005-02-10 12:54</td>\n",
       "      <td>21.604</td>\n",
       "      <td>44.575</td>\n",
       "      <td>498.8</td>\n",
       "      <td>480.5</td>\n",
       "      <td>756.526446</td>\n",
       "    </tr>\n",
       "  </tbody>\n",
       "</table>\n",
       "<p>10858 rows × 7 columns</p>\n",
       "</div>"
      ],
      "text/plain": [
       "        test                   time  temp C    RH %  CO2_1  CO2_2   calc_freq\n",
       "0          1  04/17/10 11:00:00  AM  20.650  35.046  452.4  689.9  716.989324\n",
       "1          2  04/17/10 11:02:00  AM  20.579  35.105  450.5  677.0  715.370347\n",
       "2          3  04/17/10 11:04:00  AM  20.507  35.229  450.5  663.6  715.370347\n",
       "3          4  04/17/10 11:06:00  AM  20.460  35.291  448.7  652.0  713.836580\n",
       "4          5  04/17/10 11:08:00  AM  20.412  35.352  442.0  641.0  708.127556\n",
       "...      ...                    ...     ...     ...    ...    ...         ...\n",
       "10853  10854       2005-02-10 12:46  21.581  44.604  501.2  483.5  758.571469\n",
       "10854  10855       2005-02-10 12:48  21.581  44.604  504.3  482.9  761.212958\n",
       "10855  10856       2005-02-10 12:50  21.581  44.604  503.7  482.3  760.701702\n",
       "10856  10857       2005-02-10 12:52  21.604  44.575  503.1  481.7  760.190446\n",
       "10857  10858       2005-02-10 12:54  21.604  44.575  498.8  480.5  756.526446\n",
       "\n",
       "[10858 rows x 7 columns]"
      ]
     },
     "execution_count": 17,
     "metadata": {},
     "output_type": "execute_result"
    }
   ],
   "source": [
    "#check the dataframe\n",
    "#calculated frequency values seem reasonable based on changes in CO2\n",
    "env"
   ]
  },
  {
   "cell_type": "code",
   "execution_count": 27,
   "metadata": {
    "collapsed": false
   },
   "outputs": [
    {
     "data": {
      "text/html": [
       "<div>\n",
       "<table border=\"1\" class=\"dataframe\">\n",
       "  <thead>\n",
       "    <tr style=\"text-align: right;\">\n",
       "      <th></th>\n",
       "      <th>time</th>\n",
       "      <th>div</th>\n",
       "      <th>note</th>\n",
       "      <th>freq1</th>\n",
       "      <th>freq2</th>\n",
       "      <th>freq3</th>\n",
       "      <th>freq4</th>\n",
       "      <th>freq5</th>\n",
       "      <th>freq6</th>\n",
       "      <th>freq7</th>\n",
       "      <th>freq8</th>\n",
       "      <th>freq9</th>\n",
       "    </tr>\n",
       "  </thead>\n",
       "  <tbody>\n",
       "    <tr>\n",
       "      <th>0</th>\n",
       "      <td>2010-04-13 8:37</td>\n",
       "      <td>pedal</td>\n",
       "      <td>c3</td>\n",
       "      <td>131.17</td>\n",
       "      <td>131.20</td>\n",
       "      <td>131.18</td>\n",
       "      <td>131.11</td>\n",
       "      <td>131.17</td>\n",
       "      <td>131.14</td>\n",
       "      <td>131.21</td>\n",
       "      <td>NaN</td>\n",
       "      <td>NaN</td>\n",
       "    </tr>\n",
       "    <tr>\n",
       "      <th>1</th>\n",
       "      <td>2010-04-13 8:37</td>\n",
       "      <td>pedal</td>\n",
       "      <td>c4</td>\n",
       "      <td>262.08</td>\n",
       "      <td>262.12</td>\n",
       "      <td>262.09</td>\n",
       "      <td>262.05</td>\n",
       "      <td>262.07</td>\n",
       "      <td>262.10</td>\n",
       "      <td>262.08</td>\n",
       "      <td>NaN</td>\n",
       "      <td>NaN</td>\n",
       "    </tr>\n",
       "    <tr>\n",
       "      <th>2</th>\n",
       "      <td>2010-04-13 8:40</td>\n",
       "      <td>swell</td>\n",
       "      <td>c3</td>\n",
       "      <td>131.42</td>\n",
       "      <td>131.47</td>\n",
       "      <td>131.45</td>\n",
       "      <td>131.47</td>\n",
       "      <td>131.50</td>\n",
       "      <td>131.47</td>\n",
       "      <td>131.45</td>\n",
       "      <td>NaN</td>\n",
       "      <td>NaN</td>\n",
       "    </tr>\n",
       "    <tr>\n",
       "      <th>3</th>\n",
       "      <td>2010-04-13 8:40</td>\n",
       "      <td>swell</td>\n",
       "      <td>c4</td>\n",
       "      <td>262.90</td>\n",
       "      <td>262.87</td>\n",
       "      <td>262.84</td>\n",
       "      <td>262.85</td>\n",
       "      <td>262.90</td>\n",
       "      <td>262.87</td>\n",
       "      <td>262.88</td>\n",
       "      <td>NaN</td>\n",
       "      <td>NaN</td>\n",
       "    </tr>\n",
       "    <tr>\n",
       "      <th>4</th>\n",
       "      <td>2010-04-13 8:42</td>\n",
       "      <td>great</td>\n",
       "      <td>c4</td>\n",
       "      <td>262.04</td>\n",
       "      <td>262.05</td>\n",
       "      <td>262.01</td>\n",
       "      <td>262.03</td>\n",
       "      <td>261.97</td>\n",
       "      <td>261.98</td>\n",
       "      <td>261.99</td>\n",
       "      <td>NaN</td>\n",
       "      <td>NaN</td>\n",
       "    </tr>\n",
       "    <tr>\n",
       "      <th>...</th>\n",
       "      <td>...</td>\n",
       "      <td>...</td>\n",
       "      <td>...</td>\n",
       "      <td>...</td>\n",
       "      <td>...</td>\n",
       "      <td>...</td>\n",
       "      <td>...</td>\n",
       "      <td>...</td>\n",
       "      <td>...</td>\n",
       "      <td>...</td>\n",
       "      <td>...</td>\n",
       "      <td>...</td>\n",
       "    </tr>\n",
       "    <tr>\n",
       "      <th>52</th>\n",
       "      <td>2010-04-17 10:35</td>\n",
       "      <td>pedal</td>\n",
       "      <td>c4</td>\n",
       "      <td>261.95</td>\n",
       "      <td>261.95</td>\n",
       "      <td>262.02</td>\n",
       "      <td>262.00</td>\n",
       "      <td>261.97</td>\n",
       "      <td>262.01</td>\n",
       "      <td>261.95</td>\n",
       "      <td>261.97</td>\n",
       "      <td>NaN</td>\n",
       "    </tr>\n",
       "    <tr>\n",
       "      <th>53</th>\n",
       "      <td>2010-04-17 10:37</td>\n",
       "      <td>great</td>\n",
       "      <td>c4</td>\n",
       "      <td>261.69</td>\n",
       "      <td>261.69</td>\n",
       "      <td>261.68</td>\n",
       "      <td>261.71</td>\n",
       "      <td>261.74</td>\n",
       "      <td>261.66</td>\n",
       "      <td>261.68</td>\n",
       "      <td>261.69</td>\n",
       "      <td>261.67</td>\n",
       "    </tr>\n",
       "    <tr>\n",
       "      <th>54</th>\n",
       "      <td>2010-04-17 9:54</td>\n",
       "      <td>choir</td>\n",
       "      <td>c5</td>\n",
       "      <td>NaN</td>\n",
       "      <td>523.73</td>\n",
       "      <td>523.61</td>\n",
       "      <td>523.66</td>\n",
       "      <td>523.77</td>\n",
       "      <td>523.63</td>\n",
       "      <td>523.65</td>\n",
       "      <td>523.69</td>\n",
       "      <td>NaN</td>\n",
       "    </tr>\n",
       "    <tr>\n",
       "      <th>55</th>\n",
       "      <td>2010-04-17 10:35</td>\n",
       "      <td>pedal</td>\n",
       "      <td>c4</td>\n",
       "      <td>NaN</td>\n",
       "      <td>261.95</td>\n",
       "      <td>261.95</td>\n",
       "      <td>262.02</td>\n",
       "      <td>262.00</td>\n",
       "      <td>261.97</td>\n",
       "      <td>262.01</td>\n",
       "      <td>261.95</td>\n",
       "      <td>261.97</td>\n",
       "    </tr>\n",
       "    <tr>\n",
       "      <th>56</th>\n",
       "      <td>2010-04-17 10:37</td>\n",
       "      <td>great</td>\n",
       "      <td>c4</td>\n",
       "      <td>NaN</td>\n",
       "      <td>261.69</td>\n",
       "      <td>261.69</td>\n",
       "      <td>261.68</td>\n",
       "      <td>261.71</td>\n",
       "      <td>261.74</td>\n",
       "      <td>261.66</td>\n",
       "      <td>261.68</td>\n",
       "      <td>261.69</td>\n",
       "    </tr>\n",
       "  </tbody>\n",
       "</table>\n",
       "<p>57 rows × 12 columns</p>\n",
       "</div>"
      ],
      "text/plain": [
       "                time    div note   freq1   freq2   freq3   freq4   freq5  \\\n",
       "0    2010-04-13 8:37  pedal   c3  131.17  131.20  131.18  131.11  131.17   \n",
       "1    2010-04-13 8:37  pedal   c4  262.08  262.12  262.09  262.05  262.07   \n",
       "2    2010-04-13 8:40  swell   c3  131.42  131.47  131.45  131.47  131.50   \n",
       "3    2010-04-13 8:40  swell   c4  262.90  262.87  262.84  262.85  262.90   \n",
       "4    2010-04-13 8:42  great   c4  262.04  262.05  262.01  262.03  261.97   \n",
       "..               ...    ...  ...     ...     ...     ...     ...     ...   \n",
       "52  2010-04-17 10:35  pedal   c4  261.95  261.95  262.02  262.00  261.97   \n",
       "53  2010-04-17 10:37  great   c4  261.69  261.69  261.68  261.71  261.74   \n",
       "54   2010-04-17 9:54  choir   c5     NaN  523.73  523.61  523.66  523.77   \n",
       "55  2010-04-17 10:35  pedal   c4     NaN  261.95  261.95  262.02  262.00   \n",
       "56  2010-04-17 10:37  great   c4     NaN  261.69  261.69  261.68  261.71   \n",
       "\n",
       "     freq6   freq7   freq8   freq9  \n",
       "0   131.14  131.21     NaN     NaN  \n",
       "1   262.10  262.08     NaN     NaN  \n",
       "2   131.47  131.45     NaN     NaN  \n",
       "3   262.87  262.88     NaN     NaN  \n",
       "4   261.98  261.99     NaN     NaN  \n",
       "..     ...     ...     ...     ...  \n",
       "52  262.01  261.95  261.97     NaN  \n",
       "53  261.66  261.68  261.69  261.67  \n",
       "54  523.63  523.65  523.69     NaN  \n",
       "55  261.97  262.01  261.95  261.97  \n",
       "56  261.74  261.66  261.68  261.69  \n",
       "\n",
       "[57 rows x 12 columns]"
      ]
     },
     "execution_count": 27,
     "metadata": {},
     "output_type": "execute_result"
    }
   ],
   "source": [
    "#Now I call in my measured pitch data, \n",
    "#to be able to visually compare calculated and measured\n",
    "\n",
    "#Import the measured pitch values--the output of pitch_data.py script\n",
    "measured_freq = pd.read_table('../Data/pitches.csv', sep=',')\n",
    "\n",
    "#change data time variable to actual values of time. \n",
    "env['time']= pd.to_datetime(env['time'])\n",
    "\n",
    "#I test to make sure I'm importing the correct data\n",
    "measured_freq"
   ]
  },
  {
   "cell_type": "code",
   "execution_count": null,
   "metadata": {
    "collapsed": true
   },
   "outputs": [],
   "source": []
  },
  {
   "cell_type": "code",
   "execution_count": null,
   "metadata": {
    "collapsed": true
   },
   "outputs": [],
   "source": []
  },
  {
   "cell_type": "code",
   "execution_count": null,
   "metadata": {
    "collapsed": true
   },
   "outputs": [],
   "source": []
  },
  {
   "cell_type": "markdown",
   "metadata": {},
   "source": [
    "## Visualizing the expected pitch values by time\n",
    "\n",
    "### 1. Plot calculated frequency, CO2 (ppm), and measured frequency values"
   ]
  },
  {
   "cell_type": "code",
   "execution_count": 28,
   "metadata": {
    "collapsed": false
   },
   "outputs": [
    {
     "name": "stdout",
     "output_type": "stream",
     "text": [
      "        calc_freq\n",
      "0      716.989324\n",
      "1      715.370347\n",
      "2      715.370347\n",
      "3      713.836580\n",
      "4      708.127556\n",
      "...           ...\n",
      "10853  758.571469\n",
      "10854  761.212958\n",
      "10855  760.701702\n",
      "10856  760.190446\n",
      "10857  756.526446\n",
      "\n",
      "[10858 rows x 1 columns]\n"
     ]
    }
   ],
   "source": [
    "print(calc_freq)"
   ]
  },
  {
   "cell_type": "code",
   "execution_count": 29,
   "metadata": {
    "collapsed": false
   },
   "outputs": [],
   "source": [
    "#define variables from dataframe columns\n",
    "CO2_1 = env[['CO2_1']]\n",
    "\n",
    "calc_freq=env[['calc_freq']]\n",
    "\n",
    "#measured_pitch = output_from_'pitch_data.py'\n"
   ]
  },
  {
   "cell_type": "code",
   "execution_count": 31,
   "metadata": {
    "collapsed": false
   },
   "outputs": [
    {
     "data": {
      "text/plain": [
       "()"
      ]
     },
     "execution_count": 31,
     "metadata": {},
     "output_type": "execute_result"
    },
    {
     "data": {
      "image/png": "[encoded data removed]",
      "text/plain": [
       "<matplotlib.figure.Figure at 0x107e03ac8>"
      ]
     },
     "metadata": {},
     "output_type": "display_data"
    }
   ],
   "source": [
    "#want to set x-axis as date_time\n",
    "#how do I format the ax2 y axis scale\n",
    "\n",
    "def make_plot(variable_1, variable_2):\n",
    "    '''Make a three variable plot with two axes'''\n",
    "\n",
    "#plot title\n",
    "    plt.title('CO2 and Calculated Pitch', fontsize='14')\n",
    "\n",
    "#twinx layering\n",
    "    ax1=plt.subplot()\n",
    "    ax2=ax1.twinx()\n",
    "    #ax3=ax1.twinx()\n",
    "\n",
    "#call data for the plot\n",
    "    ax1.plot(CO2_1, color='g', linewidth=1)\n",
    "    ax2.plot(calc_freq, color= 'm', linewidth=1) \n",
    "    #ax3.plot(measured_freq, color = 'b', marker= 'x')\n",
    "\n",
    "#axis labeling\n",
    "    ax1.yaxis.set_tick_params(labelcolor='grey')\n",
    "    ax1.set_xlabel('Sample Number')\n",
    "    ax1.set_ylabel('CO2 (ppm)', fontsize=12, color = 'g')\n",
    "    ax2.set_ylabel('Calculated Pitch (Hz)', fontsize=12, color='m') \n",
    "    #ax3.set_ylabel('Measured Pitch')\n",
    "\n",
    "#axis limits\n",
    "    ax1.set_ylim([400,1300])\n",
    "    ax2.set_ylim([600, 1500])\n",
    "\n",
    "    #plt.savefig('../Figures/fig1.pdf')\n",
    "\n",
    "#Close function\n",
    "    return()#'../Figures/fig1.pdf')\n",
    "\n",
    "\n",
    "#Call my function to test it \n",
    "make_plot(CO2_1, calc_freq)\n"
   ]
  },
  {
   "cell_type": "markdown",
   "metadata": {
    "collapsed": true
   },
   "source": [
    "Here we see the relationship between CO2 concentration in parts per million and the expected changes in pitch. Measured pitch values did not match the time of sampling with that of CO2, so therefore could not be plotted. Measured pitch data would have been \"ax3\".\n",
    "\n",
    "#End of script"
   ]
  },
  {
   "cell_type": "code",
   "execution_count": null,
   "metadata": {
    "collapsed": true
   },
   "outputs": [],
   "source": []
  },
  {
   "cell_type": "code",
   "execution_count": null,
   "metadata": {
    "collapsed": true
   },
   "outputs": [],
   "source": []
  },
  {
   "cell_type": "code",
   "execution_count": null,
   "metadata": {
    "collapsed": true
   },
   "outputs": [],
   "source": []
  },
  {
   "cell_type": "code",
   "execution_count": null,
   "metadata": {
    "collapsed": true
   },
   "outputs": [],
   "source": []
  },
  {
   "cell_type": "code",
   "execution_count": null,
   "metadata": {
    "collapsed": true
   },
   "outputs": [],
   "source": []
  },
  {
   "cell_type": "code",
   "execution_count": null,
   "metadata": {
    "collapsed": false
   },
   "outputs": [],
   "source": [
    "#def make_fig(datasets, variable_1, variable_2, savename):\n",
    "\n",
    "#twinx layering\n",
    "ax1=plt.subplot()\n",
    "ax2=ax1.twinx()\n",
    "\n",
    "#plot 2 variables in predertermined plot above\n",
    "ax1.plot(dataset.index, variable_1, 'k-', linewidth=2)\n",
    "ax2.plot(dataset.index, variable_2, )\n",
    "\n",
    "#moving plots lines\n",
    "variable_2_spine=ax2.spines['right']\n",
    "variable_2_spine.set_position(('axes', 1.2))\n",
    "\n",
    "ax1.yaxi.set_tick_params(labelcolor='k')\n",
    "ax1.set_ylabel(variable_1.name, fontsize=13, colour = 'k')\n",
    "ax2.sey_ylabel(variable_2.name + '($^o$C)', fontsize=13, color='grey')\n",
    "\n",
    "#plt.savefig(savename)\n",
    "return(savename)\n"
   ]
  },
  {
   "cell_type": "code",
   "execution_count": null,
   "metadata": {
    "collapsed": true
   },
   "outputs": [],
   "source": [
    "fig = plt.figure(figsize=(11,14))\n",
    "plt.suptitle('')\n",
    "\n",
    "ax1.plot(colum1, colum2, 'k-', linewidth=2)\n",
    "\" \"\n",
    "\n",
    "ax1.set_ylim([0,1])\n",
    "ax2.set_ylim([0,1])\n",
    "\n",
    "ax1.set_xlabel('name', fontsize=14, y=0)\n",
    "ax1.set_ylabel\n",
    "ax2.set_ylabel"
   ]
  },
  {
   "cell_type": "code",
   "execution_count": null,
   "metadata": {
    "collapsed": true
   },
   "outputs": [],
   "source": []
  },
  {
   "cell_type": "code",
   "execution_count": null,
   "metadata": {
    "collapsed": true
   },
   "outputs": [],
   "source": []
  },
  {
   "cell_type": "code",
   "execution_count": null,
   "metadata": {
    "collapsed": true
   },
   "outputs": [],
   "source": []
  },
  {
   "cell_type": "code",
   "execution_count": null,
   "metadata": {
    "collapsed": true
   },
   "outputs": [],
   "source": []
  },
  {
   "cell_type": "code",
   "execution_count": null,
   "metadata": {
    "collapsed": true
   },
   "outputs": [],
   "source": []
  },
  {
   "cell_type": "code",
   "execution_count": null,
   "metadata": {
    "collapsed": true
   },
   "outputs": [],
   "source": []
  },
  {
   "cell_type": "code",
   "execution_count": null,
   "metadata": {
    "collapsed": false
   },
   "outputs": [],
   "source": [
    "#'float' object not callable--the data in \"CO2_1\" are objects and cannot be called into the equation\n",
    "#cramer(env.CO2_ave) "
   ]
  },
  {
   "cell_type": "code",
   "execution_count": null,
   "metadata": {
    "collapsed": false
   },
   "outputs": [],
   "source": [
    "env.dtypes"
   ]
  },
  {
   "cell_type": "code",
   "execution_count": null,
   "metadata": {
    "collapsed": false
   },
   "outputs": [],
   "source": [
    "env.CO2_1.dtypes"
   ]
  },
  {
   "cell_type": "code",
   "execution_count": null,
   "metadata": {
    "collapsed": false
   },
   "outputs": [],
   "source": [
    "new = pd.Series([env.CO2_1], name = 'CO2_1')\n",
    "\n",
    "CO2_1 = new.tolist()\n",
    "\n",
    "CO2_array = np.array(CO2_1)\n",
    "\n",
    "#Test type of data in \"CO2_1\" column\n",
    "env.CO2_1.dtypes"
   ]
  },
  {
   "cell_type": "code",
   "execution_count": null,
   "metadata": {
    "collapsed": false
   },
   "outputs": [],
   "source": [
    "cramer(CO2_array)"
   ]
  },
  {
   "cell_type": "code",
   "execution_count": null,
   "metadata": {
    "collapsed": false
   },
   "outputs": [],
   "source": [
    "type(CO2_array)"
   ]
  },
  {
   "cell_type": "code",
   "execution_count": null,
   "metadata": {
    "collapsed": true
   },
   "outputs": [],
   "source": []
  },
  {
   "cell_type": "code",
   "execution_count": null,
   "metadata": {
    "collapsed": true
   },
   "outputs": [],
   "source": []
  },
  {
   "cell_type": "code",
   "execution_count": null,
   "metadata": {
    "collapsed": true
   },
   "outputs": [],
   "source": []
  },
  {
   "cell_type": "code",
   "execution_count": null,
   "metadata": {
    "collapsed": true
   },
   "outputs": [],
   "source": []
  },
  {
   "cell_type": "code",
   "execution_count": null,
   "metadata": {
    "collapsed": true
   },
   "outputs": [],
   "source": []
  },
  {
   "cell_type": "code",
   "execution_count": null,
   "metadata": {
    "collapsed": false
   },
   "outputs": [],
   "source": [
    "# To choose which CO2 value to use, I first visualize which seems normal \n",
    "\n",
    "#Create CO2-only dataframs\n",
    "CO2 = env[['CO2_1', 'CO2_2']]\n",
    "\n",
    "#Make a plot\n",
    "CO2_fig = plt.plot(CO2)\n",
    "\n",
    "plt.ylabel('CO2 (ppm)')\n",
    "plt.xlabel('Sample number')\n",
    "plt.title('Two CO2 sensors, same time and place')\n",
    "\n",
    "#plt.savefig('CO2_fig.pdf')"
   ]
  },
  {
   "cell_type": "code",
   "execution_count": null,
   "metadata": {
    "collapsed": true
   },
   "outputs": [],
   "source": []
  },
  {
   "cell_type": "code",
   "execution_count": null,
   "metadata": {
    "collapsed": true
   },
   "outputs": [],
   "source": []
  },
  {
   "cell_type": "code",
   "execution_count": null,
   "metadata": {
    "collapsed": true
   },
   "outputs": [],
   "source": []
  },
  {
   "cell_type": "code",
   "execution_count": null,
   "metadata": {
    "collapsed": true
   },
   "outputs": [],
   "source": []
  },
  {
   "cell_type": "code",
   "execution_count": null,
   "metadata": {
    "collapsed": true
   },
   "outputs": [],
   "source": []
  },
  {
   "cell_type": "code",
   "execution_count": null,
   "metadata": {
    "collapsed": true
   },
   "outputs": [],
   "source": []
  },
  {
   "cell_type": "code",
   "execution_count": 11,
   "metadata": {
    "collapsed": false
   },
   "outputs": [
    {
     "ename": "OSError",
     "evalue": "Expected file path name or file-like object, got <class 'pandas.core.frame.DataFrame'> type",
     "output_type": "error",
     "traceback": [
      "\u001b[0;31m---------------------------------------------------------------------------\u001b[0m",
      "\u001b[0;31mOSError\u001b[0m                                   Traceback (most recent call last)",
      "\u001b[0;32m<ipython-input-11-a4e72689e698>\u001b[0m in \u001b[0;36m<module>\u001b[0;34m()\u001b[0m\n\u001b[1;32m      4\u001b[0m \u001b[0;34m\u001b[0m\u001b[0m\n\u001b[1;32m      5\u001b[0m \u001b[0;31m#Upload environmental data file\u001b[0m\u001b[0;34m\u001b[0m\u001b[0;34m\u001b[0m\u001b[0m\n\u001b[0;32m----> 6\u001b[0;31m \u001b[0menv\u001b[0m \u001b[0;34m=\u001b[0m \u001b[0mpd\u001b[0m\u001b[0;34m.\u001b[0m\u001b[0mread_table\u001b[0m\u001b[0;34m(\u001b[0m\u001b[0minput_file\u001b[0m\u001b[0;34m,\u001b[0m \u001b[0msep\u001b[0m\u001b[0;34m=\u001b[0m\u001b[0;34m','\u001b[0m\u001b[0;34m)\u001b[0m\u001b[0;34m\u001b[0m\u001b[0m\n\u001b[0m\u001b[1;32m      7\u001b[0m \u001b[0;34m\u001b[0m\u001b[0m\n\u001b[1;32m      8\u001b[0m \u001b[0;31m#assigning columns names\u001b[0m\u001b[0;34m\u001b[0m\u001b[0;34m\u001b[0m\u001b[0m\n",
      "\u001b[0;32m/Users/shubbymartz-oberlander/anaconda/lib/python3.4/site-packages/pandas/io/parsers.py\u001b[0m in \u001b[0;36mparser_f\u001b[0;34m(filepath_or_buffer, sep, dialect, compression, doublequote, escapechar, quotechar, quoting, skipinitialspace, lineterminator, header, index_col, names, prefix, skiprows, skipfooter, skip_footer, na_values, true_values, false_values, delimiter, converters, dtype, usecols, engine, delim_whitespace, as_recarray, na_filter, compact_ints, use_unsigned, low_memory, buffer_lines, warn_bad_lines, error_bad_lines, keep_default_na, thousands, comment, decimal, parse_dates, keep_date_col, dayfirst, date_parser, memory_map, float_precision, nrows, iterator, chunksize, verbose, encoding, squeeze, mangle_dupe_cols, tupleize_cols, infer_datetime_format, skip_blank_lines)\u001b[0m\n\u001b[1;32m    489\u001b[0m                     skip_blank_lines=skip_blank_lines)\n\u001b[1;32m    490\u001b[0m \u001b[0;34m\u001b[0m\u001b[0m\n\u001b[0;32m--> 491\u001b[0;31m         \u001b[0;32mreturn\u001b[0m \u001b[0m_read\u001b[0m\u001b[0;34m(\u001b[0m\u001b[0mfilepath_or_buffer\u001b[0m\u001b[0;34m,\u001b[0m \u001b[0mkwds\u001b[0m\u001b[0;34m)\u001b[0m\u001b[0;34m\u001b[0m\u001b[0m\n\u001b[0m\u001b[1;32m    492\u001b[0m \u001b[0;34m\u001b[0m\u001b[0m\n\u001b[1;32m    493\u001b[0m     \u001b[0mparser_f\u001b[0m\u001b[0;34m.\u001b[0m\u001b[0m__name__\u001b[0m \u001b[0;34m=\u001b[0m \u001b[0mname\u001b[0m\u001b[0;34m\u001b[0m\u001b[0m\n",
      "\u001b[0;32m/Users/shubbymartz-oberlander/anaconda/lib/python3.4/site-packages/pandas/io/parsers.py\u001b[0m in \u001b[0;36m_read\u001b[0;34m(filepath_or_buffer, kwds)\u001b[0m\n\u001b[1;32m    266\u001b[0m \u001b[0;34m\u001b[0m\u001b[0m\n\u001b[1;32m    267\u001b[0m     \u001b[0;31m# Create the parser.\u001b[0m\u001b[0;34m\u001b[0m\u001b[0;34m\u001b[0m\u001b[0m\n\u001b[0;32m--> 268\u001b[0;31m     \u001b[0mparser\u001b[0m \u001b[0;34m=\u001b[0m \u001b[0mTextFileReader\u001b[0m\u001b[0;34m(\u001b[0m\u001b[0mfilepath_or_buffer\u001b[0m\u001b[0;34m,\u001b[0m \u001b[0;34m**\u001b[0m\u001b[0mkwds\u001b[0m\u001b[0;34m)\u001b[0m\u001b[0;34m\u001b[0m\u001b[0m\n\u001b[0m\u001b[1;32m    269\u001b[0m \u001b[0;34m\u001b[0m\u001b[0m\n\u001b[1;32m    270\u001b[0m     \u001b[0;32mif\u001b[0m \u001b[0;34m(\u001b[0m\u001b[0mnrows\u001b[0m \u001b[0;32mis\u001b[0m \u001b[0;32mnot\u001b[0m \u001b[0;32mNone\u001b[0m\u001b[0;34m)\u001b[0m \u001b[0;32mand\u001b[0m \u001b[0;34m(\u001b[0m\u001b[0mchunksize\u001b[0m \u001b[0;32mis\u001b[0m \u001b[0;32mnot\u001b[0m \u001b[0;32mNone\u001b[0m\u001b[0;34m)\u001b[0m\u001b[0;34m:\u001b[0m\u001b[0;34m\u001b[0m\u001b[0m\n",
      "\u001b[0;32m/Users/shubbymartz-oberlander/anaconda/lib/python3.4/site-packages/pandas/io/parsers.py\u001b[0m in \u001b[0;36m__init__\u001b[0;34m(self, f, engine, **kwds)\u001b[0m\n\u001b[1;32m    581\u001b[0m             \u001b[0mself\u001b[0m\u001b[0;34m.\u001b[0m\u001b[0moptions\u001b[0m\u001b[0;34m[\u001b[0m\u001b[0;34m'has_index_names'\u001b[0m\u001b[0;34m]\u001b[0m \u001b[0;34m=\u001b[0m \u001b[0mkwds\u001b[0m\u001b[0;34m[\u001b[0m\u001b[0;34m'has_index_names'\u001b[0m\u001b[0;34m]\u001b[0m\u001b[0;34m\u001b[0m\u001b[0m\n\u001b[1;32m    582\u001b[0m \u001b[0;34m\u001b[0m\u001b[0m\n\u001b[0;32m--> 583\u001b[0;31m         \u001b[0mself\u001b[0m\u001b[0;34m.\u001b[0m\u001b[0m_make_engine\u001b[0m\u001b[0;34m(\u001b[0m\u001b[0mself\u001b[0m\u001b[0;34m.\u001b[0m\u001b[0mengine\u001b[0m\u001b[0;34m)\u001b[0m\u001b[0;34m\u001b[0m\u001b[0m\n\u001b[0m\u001b[1;32m    584\u001b[0m \u001b[0;34m\u001b[0m\u001b[0m\n\u001b[1;32m    585\u001b[0m     \u001b[0;32mdef\u001b[0m \u001b[0m_get_options_with_defaults\u001b[0m\u001b[0;34m(\u001b[0m\u001b[0mself\u001b[0m\u001b[0;34m,\u001b[0m \u001b[0mengine\u001b[0m\u001b[0;34m)\u001b[0m\u001b[0;34m:\u001b[0m\u001b[0;34m\u001b[0m\u001b[0m\n",
      "\u001b[0;32m/Users/shubbymartz-oberlander/anaconda/lib/python3.4/site-packages/pandas/io/parsers.py\u001b[0m in \u001b[0;36m_make_engine\u001b[0;34m(self, engine)\u001b[0m\n\u001b[1;32m    722\u001b[0m     \u001b[0;32mdef\u001b[0m \u001b[0m_make_engine\u001b[0m\u001b[0;34m(\u001b[0m\u001b[0mself\u001b[0m\u001b[0;34m,\u001b[0m \u001b[0mengine\u001b[0m\u001b[0;34m=\u001b[0m\u001b[0;34m'c'\u001b[0m\u001b[0;34m)\u001b[0m\u001b[0;34m:\u001b[0m\u001b[0;34m\u001b[0m\u001b[0m\n\u001b[1;32m    723\u001b[0m         \u001b[0;32mif\u001b[0m \u001b[0mengine\u001b[0m \u001b[0;34m==\u001b[0m \u001b[0;34m'c'\u001b[0m\u001b[0;34m:\u001b[0m\u001b[0;34m\u001b[0m\u001b[0m\n\u001b[0;32m--> 724\u001b[0;31m             \u001b[0mself\u001b[0m\u001b[0;34m.\u001b[0m\u001b[0m_engine\u001b[0m \u001b[0;34m=\u001b[0m \u001b[0mCParserWrapper\u001b[0m\u001b[0;34m(\u001b[0m\u001b[0mself\u001b[0m\u001b[0;34m.\u001b[0m\u001b[0mf\u001b[0m\u001b[0;34m,\u001b[0m \u001b[0;34m**\u001b[0m\u001b[0mself\u001b[0m\u001b[0;34m.\u001b[0m\u001b[0moptions\u001b[0m\u001b[0;34m)\u001b[0m\u001b[0;34m\u001b[0m\u001b[0m\n\u001b[0m\u001b[1;32m    725\u001b[0m         \u001b[0;32melse\u001b[0m\u001b[0;34m:\u001b[0m\u001b[0;34m\u001b[0m\u001b[0m\n\u001b[1;32m    726\u001b[0m             \u001b[0;32mif\u001b[0m \u001b[0mengine\u001b[0m \u001b[0;34m==\u001b[0m \u001b[0;34m'python'\u001b[0m\u001b[0;34m:\u001b[0m\u001b[0;34m\u001b[0m\u001b[0m\n",
      "\u001b[0;32m/Users/shubbymartz-oberlander/anaconda/lib/python3.4/site-packages/pandas/io/parsers.py\u001b[0m in \u001b[0;36m__init__\u001b[0;34m(self, src, **kwds)\u001b[0m\n\u001b[1;32m   1091\u001b[0m         \u001b[0mkwds\u001b[0m\u001b[0;34m[\u001b[0m\u001b[0;34m'allow_leading_cols'\u001b[0m\u001b[0;34m]\u001b[0m \u001b[0;34m=\u001b[0m \u001b[0mself\u001b[0m\u001b[0;34m.\u001b[0m\u001b[0mindex_col\u001b[0m \u001b[0;32mis\u001b[0m \u001b[0;32mnot\u001b[0m \u001b[0;32mFalse\u001b[0m\u001b[0;34m\u001b[0m\u001b[0m\n\u001b[1;32m   1092\u001b[0m \u001b[0;34m\u001b[0m\u001b[0m\n\u001b[0;32m-> 1093\u001b[0;31m         \u001b[0mself\u001b[0m\u001b[0;34m.\u001b[0m\u001b[0m_reader\u001b[0m \u001b[0;34m=\u001b[0m \u001b[0m_parser\u001b[0m\u001b[0;34m.\u001b[0m\u001b[0mTextReader\u001b[0m\u001b[0;34m(\u001b[0m\u001b[0msrc\u001b[0m\u001b[0;34m,\u001b[0m \u001b[0;34m**\u001b[0m\u001b[0mkwds\u001b[0m\u001b[0;34m)\u001b[0m\u001b[0;34m\u001b[0m\u001b[0m\n\u001b[0m\u001b[1;32m   1094\u001b[0m \u001b[0;34m\u001b[0m\u001b[0m\n\u001b[1;32m   1095\u001b[0m         \u001b[0;31m# XXX\u001b[0m\u001b[0;34m\u001b[0m\u001b[0;34m\u001b[0m\u001b[0m\n",
      "\u001b[0;32mpandas/parser.pyx\u001b[0m in \u001b[0;36mpandas.parser.TextReader.__cinit__ (pandas/parser.c:3229)\u001b[0;34m()\u001b[0m\n",
      "\u001b[0;32mpandas/parser.pyx\u001b[0m in \u001b[0;36mpandas.parser.TextReader._setup_parser_source (pandas/parser.c:6219)\u001b[0;34m()\u001b[0m\n",
      "\u001b[0;31mOSError\u001b[0m: Expected file path name or file-like object, got <class 'pandas.core.frame.DataFrame'> type"
     ]
    }
   ],
   "source": [
    "input_file = env\n",
    "\n",
    "\n",
    "\n",
    "#Upload environmental data file\n",
    "env = pd.read_table('', sep=',')\n",
    "\n",
    "\n",
    "\n",
    "#assigning columns names\n",
    "env.columns=[['test', 'date_time','temp C', 'RH %', 'CO2_1', 'CO2_2']]\n",
    "\n",
    "#change data time variable to actual values of time.\n",
    "env['date_time']= pd.to_datetime(env['date_time'])\n",
    "\n",
    "#test function\n",
    "        #def test_cramer():\n",
    "                #assert a0 + ((a9)*400)/100 + a14*((400/1000000)**2) == 672.339644669, 'Equation failure, math-mess-up'\n",
    "                #return()\n",
    "\n",
    "#Call the test function\n",
    "        #test_cramer()\n",
    "\n",
    "#pitch calculator function from Cramer equation\n",
    "def cramer(data):\n",
    "    '''Calculate pitch from CO2_1 concentration'''\n",
    "    calc_freq = a0 + ((a9*data)/100) + a14*((data)**2)\n",
    "    return(calc_freq)\n",
    "\n",
    "#Run the function for the input column (CO2 values) to get a new column of calculated_frequency\n",
    "env['calc_freq'] = cramer(env['CO2_1'])\n",
    "\n",
    "#Import the measured pitch values--the output of pitch_data.py script\n",
    "measured_freq = pd.read_table('../organ_pitch/Data/munged_pitch.csv', sep=',')\n",
    "\n",
    "#change data time variable to actual values of time.\n",
    "env['time']= pd.to_datetime(env['time'])\n",
    "\n",
    "#Function to make and save a plot\n",
    "\n",
    "\n",
    "\n"
   ]
  },
  {
   "cell_type": "code",
   "execution_count": null,
   "metadata": {
    "collapsed": true
   },
   "outputs": [],
   "source": []
  }
 ],
 "metadata": {
  "kernelspec": {
   "display_name": "Python 3",
   "language": "python",
   "name": "python3"
  },
  "language_info": {
   "codemirror_mode": {
    "name": "ipython",
    "version": 3
   },
   "file_extension": ".py",
   "mimetype": "text/x-python",
   "name": "python",
   "nbconvert_exporter": "python",
   "pygments_lexer": "ipython3",
   "version": "3.4.3"
  }
 },
 "nbformat": 4,
 "nbformat_minor": 0
}
