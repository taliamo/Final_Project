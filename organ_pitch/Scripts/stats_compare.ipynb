{
 "cells": [
  {
   "cell_type": "markdown",
   "metadata": {},
   "source": [
    "## T. Martz-Oberlander, 2015-11-13, CO2 and Pitch\n",
    "### Statistical analysis of changes in pitch and CO2 concentration\n",
    "\n",
    "Here I will use the combined dataframe of CO2 and Pitch over a given time frame to perform statiscial tests for correlation. \n",
    "\n",
    "1) Upload datafram\n",
    "\n",
    "2) Look for normal distribution by ----\n",
    "\n",
    "3) Perform a Spearman's Rank Test to find the p value for statistical significance \n"
   ]
  },
  {
   "cell_type": "code",
   "execution_count": 3,
   "metadata": {
    "collapsed": true
   },
   "outputs": [],
   "source": [
    "# I import useful libraries (with functions) so I can visualize my data\n",
    "# I use Pandas because this dataset has word/string column titles and I like the readability features of commands and finish visual products that Pandas offers\n",
    "\n",
    "import pandas as pd\n",
    "import matplotlib.pyplot as plt\n",
    "import re\n",
    "import numpy as np\n",
    "\n",
    "%matplotlib inline\n"
   ]
  },
  {
   "cell_type": "code",
   "execution_count": 4,
   "metadata": {
    "collapsed": true
   },
   "outputs": [],
   "source": [
    "#call in choir_division.csv with line separation\n",
    "#lines = open('[COMBINED DATAFRAME NAME HERE]', 'r').read().strip().split('\\n') \n",
    "\n"
   ]
  },
  {
   "cell_type": "code",
   "execution_count": null,
   "metadata": {
    "collapsed": false
   },
   "outputs": [],
   "source": [
    "my_model = sm.formula.ols('y ~ x', data=mydat).fit()\n",
    "\n",
    "my_model.summary()\n",
    "\n",
    "my_model.rsquared\n",
    "\n",
    "my_model.pvalues\n",
    "\n",
    "statsdf = pd.DataFrame({'formula':['y~x', 'y~x', 'y~x']}, #values to put in the three columns of the DF\n",
    "                       'test_stat':['rsquared', 'pval1', 'pval2'], \n",
    "                       'val':[mymodel.rsquared, mymodel.pvalues[0], mymodel.pvalues[1]]})\n",
    "\n",
    "pvals_df=pd.DataFrame({'pvals':mymodelpvalues})\n",
    "\n",
    "#first think about the table you want created with stats values"
   ]
  },
  {
   "cell_type": "code",
   "execution_count": null,
   "metadata": {
    "collapsed": true
   },
   "outputs": [],
   "source": [
    "# STATS: print (lm.summary())"
   ]
  },
  {
   "cell_type": "code",
   "execution_count": null,
   "metadata": {
    "collapsed": true
   },
   "outputs": [],
   "source": []
  },
  {
   "cell_type": "code",
   "execution_count": 6,
   "metadata": {
    "collapsed": false
   },
   "outputs": [
    {
     "name": "stdout",
     "output_type": "stream",
     "text": [
      "/bin/sh: -c: line 0: syntax error near unexpected token `'/Users/shubbymartz-oberlander/Desktop/organist.gif''\r\n",
      "/bin/sh: -c: line 0: `[cool_gif]('/Users/shubbymartz-oberlander/Desktop/organist.gif')'\r\n"
     ]
    }
   ],
   "source": [
    "#Have gif in presentation\n",
    "\n",
    "![cool_gif]('/Users/shubbymartz-oberlander/Desktop/organist.gif')"
   ]
  },
  {
   "cell_type": "code",
   "execution_count": null,
   "metadata": {
    "collapsed": true
   },
   "outputs": [],
   "source": []
  },
  {
   "cell_type": "code",
   "execution_count": null,
   "metadata": {
    "collapsed": true
   },
   "outputs": [],
   "source": []
  }
 ],
 "metadata": {
  "kernelspec": {
   "display_name": "Python 3",
   "language": "python",
   "name": "python3"
  },
  "language_info": {
   "codemirror_mode": {
    "name": "ipython",
    "version": 3
   },
   "file_extension": ".py",
   "mimetype": "text/x-python",
   "name": "python",
   "nbconvert_exporter": "python",
   "pygments_lexer": "ipython3",
   "version": "3.4.3"
  }
 },
 "nbformat": 4,
 "nbformat_minor": 0
}
