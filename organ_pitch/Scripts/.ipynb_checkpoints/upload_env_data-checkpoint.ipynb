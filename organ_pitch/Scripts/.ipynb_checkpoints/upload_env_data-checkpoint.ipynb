{
 "cells": [
  {
   "cell_type": "markdown",
   "metadata": {},
   "source": [
    "## T. Martz-Oberlander, 2015-11-12, CO2 and Speed of Sound\n",
    "### Formatting ENVIRONMENTAL CONDITIONS pipe organ data for Python operations\n",
    "\n",
    "NOTE: Here, pitch and frequency are used interchangeably to signify the speed of sound from organ pipes.\n",
    "\n",
    "The entire script looks for mathematical relationships between CO2 concentration changes and pitch changes from a pipe organ. This script uploads, cleans data and organizes new dataframes, creates figures, and performs statistical tests on the relationships between variable CO2 and frequency of sound from a note played on a pipe organ.\n",
    "\n",
    "This uploader script:\n",
    "\n",
    "1) Uploads CO2, temp, and RH data files;\n",
    "\n",
    "2) Munges it (creates a Date Time column for the time stamps), establishes column contents as floats;\n",
    "\n",
    "3) Calculates expected frequency, as per Cramer's equation;\n",
    "\n",
    "4) Imports output from pitch_data.py script, the dataframe with measured frequency;\n",
    "\n",
    "5) Plots expected frequency curve, CO2 (ppm) curve, and measured pitch points in a figure.\n",
    "\n",
    "[  Here I pursue data analysis route 1 (as mentionted in my organ_pitch/notebook.md file), which involves comparing one pitch dataframe with one dataframe of environmental characteristics taken at one sensor location. Both dataframes are compared by the time of data recorded. ]\n",
    "\n",
    "\n",
    "\n"
   ]
  },
  {
   "cell_type": "code",
   "execution_count": 182,
   "metadata": {
    "collapsed": true
   },
   "outputs": [],
   "source": [
    "# I import useful libraries (with functions) so I can visualize my data\n",
    "# I use Pandas because this dataset has word/string column titles and I like the readability features of commands and finish visual products that Pandas offers\n",
    "\n",
    "import pandas as pd\n",
    "import matplotlib.pyplot as plt\n",
    "import re\n",
    "import numpy as np\n",
    "\n",
    "%matplotlib inline\n",
    "\n",
    "#I want to be able to easily scroll through this notebook so I limit the length of the appearance of my dataframes \n",
    "from pandas import set_option\n",
    "set_option('display.max_rows', 10)"
   ]
  },
  {
   "cell_type": "markdown",
   "metadata": {},
   "source": [
    "\n",
    "##Uploaded RH and temp data into Python¶\n"
   ]
  },
  {
   "cell_type": "markdown",
   "metadata": {},
   "source": [
    "First I upload my data set(s). I am working with environmental data from different locations in the church at differnet dates. Files include: environmental characteristics (CO2, temperature (deg C), and relative humidity (RH) (%) measurements). \n",
    "\n",
    "I can discard the CO2_2 column values since they are false measurements logged from an empty input jack in the CO2 HOBOWare ^(r) device. "
   ]
  },
  {
   "cell_type": "code",
   "execution_count": 189,
   "metadata": {
    "collapsed": false
   },
   "outputs": [
    {
     "data": {
      "text/html": [
       "<div>\n",
       "<table border=\"1\" class=\"dataframe\">\n",
       "  <thead>\n",
       "    <tr style=\"text-align: right;\">\n",
       "      <th></th>\n",
       "      <th>test</th>\n",
       "      <th>time</th>\n",
       "      <th>temp C</th>\n",
       "      <th>RH %</th>\n",
       "      <th>CO2_1</th>\n",
       "      <th>CO2_2</th>\n",
       "    </tr>\n",
       "  </thead>\n",
       "  <tbody>\n",
       "    <tr>\n",
       "      <th>0</th>\n",
       "      <td>1</td>\n",
       "      <td>04/17/10 11:00:00  AM</td>\n",
       "      <td>20.650</td>\n",
       "      <td>35.046</td>\n",
       "      <td>452.4</td>\n",
       "      <td>689.9</td>\n",
       "    </tr>\n",
       "    <tr>\n",
       "      <th>1</th>\n",
       "      <td>2</td>\n",
       "      <td>04/17/10 11:02:00  AM</td>\n",
       "      <td>20.579</td>\n",
       "      <td>35.105</td>\n",
       "      <td>450.5</td>\n",
       "      <td>677.0</td>\n",
       "    </tr>\n",
       "    <tr>\n",
       "      <th>2</th>\n",
       "      <td>3</td>\n",
       "      <td>04/17/10 11:04:00  AM</td>\n",
       "      <td>20.507</td>\n",
       "      <td>35.229</td>\n",
       "      <td>450.5</td>\n",
       "      <td>663.6</td>\n",
       "    </tr>\n",
       "    <tr>\n",
       "      <th>3</th>\n",
       "      <td>4</td>\n",
       "      <td>04/17/10 11:06:00  AM</td>\n",
       "      <td>20.460</td>\n",
       "      <td>35.291</td>\n",
       "      <td>448.7</td>\n",
       "      <td>652.0</td>\n",
       "    </tr>\n",
       "    <tr>\n",
       "      <th>4</th>\n",
       "      <td>5</td>\n",
       "      <td>04/17/10 11:08:00  AM</td>\n",
       "      <td>20.412</td>\n",
       "      <td>35.352</td>\n",
       "      <td>442.0</td>\n",
       "      <td>641.0</td>\n",
       "    </tr>\n",
       "    <tr>\n",
       "      <th>...</th>\n",
       "      <td>...</td>\n",
       "      <td>...</td>\n",
       "      <td>...</td>\n",
       "      <td>...</td>\n",
       "      <td>...</td>\n",
       "      <td>...</td>\n",
       "    </tr>\n",
       "    <tr>\n",
       "      <th>10853</th>\n",
       "      <td>10854</td>\n",
       "      <td>2005-02-10 12:46</td>\n",
       "      <td>21.581</td>\n",
       "      <td>44.604</td>\n",
       "      <td>501.2</td>\n",
       "      <td>483.5</td>\n",
       "    </tr>\n",
       "    <tr>\n",
       "      <th>10854</th>\n",
       "      <td>10855</td>\n",
       "      <td>2005-02-10 12:48</td>\n",
       "      <td>21.581</td>\n",
       "      <td>44.604</td>\n",
       "      <td>504.3</td>\n",
       "      <td>482.9</td>\n",
       "    </tr>\n",
       "    <tr>\n",
       "      <th>10855</th>\n",
       "      <td>10856</td>\n",
       "      <td>2005-02-10 12:50</td>\n",
       "      <td>21.581</td>\n",
       "      <td>44.604</td>\n",
       "      <td>503.7</td>\n",
       "      <td>482.3</td>\n",
       "    </tr>\n",
       "    <tr>\n",
       "      <th>10856</th>\n",
       "      <td>10857</td>\n",
       "      <td>2005-02-10 12:52</td>\n",
       "      <td>21.604</td>\n",
       "      <td>44.575</td>\n",
       "      <td>503.1</td>\n",
       "      <td>481.7</td>\n",
       "    </tr>\n",
       "    <tr>\n",
       "      <th>10857</th>\n",
       "      <td>10858</td>\n",
       "      <td>2005-02-10 12:54</td>\n",
       "      <td>21.604</td>\n",
       "      <td>44.575</td>\n",
       "      <td>498.8</td>\n",
       "      <td>480.5</td>\n",
       "    </tr>\n",
       "  </tbody>\n",
       "</table>\n",
       "<p>10858 rows × 6 columns</p>\n",
       "</div>"
      ],
      "text/plain": [
       "        test                   time  temp C    RH %  CO2_1  CO2_2\n",
       "0          1  04/17/10 11:00:00  AM  20.650  35.046  452.4  689.9\n",
       "1          2  04/17/10 11:02:00  AM  20.579  35.105  450.5  677.0\n",
       "2          3  04/17/10 11:04:00  AM  20.507  35.229  450.5  663.6\n",
       "3          4  04/17/10 11:06:00  AM  20.460  35.291  448.7  652.0\n",
       "4          5  04/17/10 11:08:00  AM  20.412  35.352  442.0  641.0\n",
       "...      ...                    ...     ...     ...    ...    ...\n",
       "10853  10854       2005-02-10 12:46  21.581  44.604  501.2  483.5\n",
       "10854  10855       2005-02-10 12:48  21.581  44.604  504.3  482.9\n",
       "10855  10856       2005-02-10 12:50  21.581  44.604  503.7  482.3\n",
       "10856  10857       2005-02-10 12:52  21.604  44.575  503.1  481.7\n",
       "10857  10858       2005-02-10 12:54  21.604  44.575  498.8  480.5\n",
       "\n",
       "[10858 rows x 6 columns]"
      ]
     },
     "execution_count": 189,
     "metadata": {},
     "output_type": "execute_result"
    }
   ],
   "source": [
    "#I import a temp and RH data file\n",
    "env=pd.read_table('../Data/CO2May.csv', sep=',')\n",
    "\n",
    "#assigning columns names\n",
    "env.columns=[['test', 'time','temp C', 'RH %', 'CO2_1', 'CO2_2']]\n",
    "\n",
    "#I display my dataframe\n",
    "env"
   ]
  },
  {
   "cell_type": "code",
   "execution_count": 190,
   "metadata": {
    "collapsed": false
   },
   "outputs": [
    {
     "name": "stdout",
     "output_type": "stream",
     "text": [
      "        test                time  temp C    RH %  CO2_1  CO2_2\n",
      "0          1 2010-04-17 11:00:00  20.650  35.046  452.4  689.9\n",
      "1          2 2010-04-17 11:02:00  20.579  35.105  450.5  677.0\n",
      "2          3 2010-04-17 11:04:00  20.507  35.229  450.5  663.6\n",
      "3          4 2010-04-17 11:06:00  20.460  35.291  448.7  652.0\n",
      "4          5 2010-04-17 11:08:00  20.412  35.352  442.0  641.0\n",
      "...      ...                 ...     ...     ...    ...    ...\n",
      "10853  10854 2005-02-10 12:46:00  21.581  44.604  501.2  483.5\n",
      "10854  10855 2005-02-10 12:48:00  21.581  44.604  504.3  482.9\n",
      "10855  10856 2005-02-10 12:50:00  21.581  44.604  503.7  482.3\n",
      "10856  10857 2005-02-10 12:52:00  21.604  44.575  503.1  481.7\n",
      "10857  10858 2005-02-10 12:54:00  21.604  44.575  498.8  480.5\n",
      "\n",
      "[10858 rows x 6 columns]\n"
     ]
    },
    {
     "data": {
      "text/plain": [
       "test               int64\n",
       "time      datetime64[ns]\n",
       "temp C           float64\n",
       "RH %             float64\n",
       "CO2_1            float64\n",
       "CO2_2            float64\n",
       "dtype: object"
      ]
     },
     "execution_count": 190,
     "metadata": {},
     "output_type": "execute_result"
    }
   ],
   "source": [
    "#change data time variable to actual values of time. \n",
    "env['time']= pd.to_datetime(env['time'])\n",
    "\n",
    "#print the new table and the type of data. \n",
    "print(env)\n",
    "\n",
    "env.dtypes"
   ]
  },
  {
   "cell_type": "code",
   "execution_count": null,
   "metadata": {
    "collapsed": false
   },
   "outputs": [],
   "source": []
  },
  {
   "cell_type": "markdown",
   "metadata": {},
   "source": [
    "##Next\n",
    "##1. Create a function for expected pitch (frequency of sound waves) from CO2 data\n",
    "##2. Add expected_frequency to dataframe\n"
   ]
  },
  {
   "cell_type": "markdown",
   "metadata": {
    "collapsed": true
   },
   "source": [
    "### Calculated pitch from CO2 levels\n",
    "\n",
    "Here I use Cramer's equation for frequency of sound from CO2 concentration (1992). \n",
    "\n",
    "freq = a0 + a1(T) + ... + (a9 +...) +... + a14(xc^2)\n",
    "where xc is the mole fraction of CO2 and T is temperature. Full derivation of these equations can be found in the \"Doc\" directory.\n",
    "\n",
    "I will later plot measured pitch (frequency) data points from my \"pitch\" data frame on top of these calculated frequency values for comparison."
   ]
  },
  {
   "cell_type": "code",
   "execution_count": 195,
   "metadata": {
    "collapsed": false
   },
   "outputs": [],
   "source": [
    "#Here I am trying to create a function for the above equation. \n",
    "#I want to plug in each CO2_ave value for a time stamp (row) from the \"env\" data frame above. \n",
    "\n",
    "#define coefficients (Cramer, 1992)\n",
    "a0 = 331.5024\n",
    "#a1 = 0.603055\n",
    "#a2 = -0.000528\n",
    "a9 = -(-85.20931) #need to account for negative values\n",
    "#a10 = -0.228525\n",
    "a14 = 29.179762\n",
    "\n",
    "#xc =  CO2 values from dataframe\n"
   ]
  },
  {
   "cell_type": "code",
   "execution_count": 208,
   "metadata": {
    "collapsed": false
   },
   "outputs": [],
   "source": [
    "#test function\n",
    "def test_cramer():\n",
    "    assert a0 + ((a9)*400)/100 + a14*((400/1000000)**2) == 672.339644669, 'Equation failure'\n",
    "    return()\n",
    "\n",
    "test_cramer()"
   ]
  },
  {
   "cell_type": "code",
   "execution_count": null,
   "metadata": {
    "collapsed": true
   },
   "outputs": [],
   "source": [
    "#This function also converts ppm to mole fraction (just quantity as a proportion of total)\n",
    "def cramer(data):\n",
    "    '''Calculate pitch from CO2_1 concentration'''\n",
    "    #calc_pitch = []\n",
    "    calc_freq = a0 + ((a9)*data)/100 + a14*((data/1000000)**2)\n",
    " \n",
    "    return(calc_freq)"
   ]
  },
  {
   "cell_type": "code",
   "execution_count": null,
   "metadata": {
    "collapsed": false
   },
   "outputs": [],
   "source": [
    "#run the cramer values for the calculated frequency \n",
    "#calc_freq = cramer(env['calc_freq'])"
   ]
  },
  {
   "cell_type": "code",
   "execution_count": null,
   "metadata": {
    "collapsed": false
   },
   "outputs": [],
   "source": [
    "#define the new column as the output of the cramer function\n",
    "#env['calc_freq'] = calc_freq"
   ]
  },
  {
   "cell_type": "code",
   "execution_count": 197,
   "metadata": {
    "collapsed": false
   },
   "outputs": [
    {
     "data": {
      "text/plain": [
       "0        716.989324\n",
       "1        715.370347\n",
       "2        715.370347\n",
       "3        713.836580\n",
       "4        708.127556\n",
       "            ...    \n",
       "10853    758.571469\n",
       "10854    761.212958\n",
       "10855    760.701702\n",
       "10856    760.190446\n",
       "10857    756.526446\n",
       "Name: CO2_1, dtype: float64"
      ]
     },
     "execution_count": 197,
     "metadata": {},
     "output_type": "execute_result"
    }
   ],
   "source": [
    "#Run the function for the input column (CO2 values)\n",
    "env['calc_freq'] = cramer(env['CO2_1'])\n",
    "\n",
    "cramer(env['CO2_1'])"
   ]
  },
  {
   "cell_type": "code",
   "execution_count": 198,
   "metadata": {
    "collapsed": false
   },
   "outputs": [
    {
     "data": {
      "text/html": [
       "<div>\n",
       "<table border=\"1\" class=\"dataframe\">\n",
       "  <thead>\n",
       "    <tr style=\"text-align: right;\">\n",
       "      <th></th>\n",
       "      <th>test</th>\n",
       "      <th>time</th>\n",
       "      <th>temp C</th>\n",
       "      <th>RH %</th>\n",
       "      <th>CO2_1</th>\n",
       "      <th>CO2_2</th>\n",
       "      <th>calc_freq</th>\n",
       "    </tr>\n",
       "  </thead>\n",
       "  <tbody>\n",
       "    <tr>\n",
       "      <th>0</th>\n",
       "      <td>1</td>\n",
       "      <td>2010-04-17 11:00:00</td>\n",
       "      <td>20.650</td>\n",
       "      <td>35.046</td>\n",
       "      <td>452.4</td>\n",
       "      <td>689.9</td>\n",
       "      <td>716.989324</td>\n",
       "    </tr>\n",
       "    <tr>\n",
       "      <th>1</th>\n",
       "      <td>2</td>\n",
       "      <td>2010-04-17 11:02:00</td>\n",
       "      <td>20.579</td>\n",
       "      <td>35.105</td>\n",
       "      <td>450.5</td>\n",
       "      <td>677.0</td>\n",
       "      <td>715.370347</td>\n",
       "    </tr>\n",
       "    <tr>\n",
       "      <th>2</th>\n",
       "      <td>3</td>\n",
       "      <td>2010-04-17 11:04:00</td>\n",
       "      <td>20.507</td>\n",
       "      <td>35.229</td>\n",
       "      <td>450.5</td>\n",
       "      <td>663.6</td>\n",
       "      <td>715.370347</td>\n",
       "    </tr>\n",
       "    <tr>\n",
       "      <th>3</th>\n",
       "      <td>4</td>\n",
       "      <td>2010-04-17 11:06:00</td>\n",
       "      <td>20.460</td>\n",
       "      <td>35.291</td>\n",
       "      <td>448.7</td>\n",
       "      <td>652.0</td>\n",
       "      <td>713.836580</td>\n",
       "    </tr>\n",
       "    <tr>\n",
       "      <th>4</th>\n",
       "      <td>5</td>\n",
       "      <td>2010-04-17 11:08:00</td>\n",
       "      <td>20.412</td>\n",
       "      <td>35.352</td>\n",
       "      <td>442.0</td>\n",
       "      <td>641.0</td>\n",
       "      <td>708.127556</td>\n",
       "    </tr>\n",
       "    <tr>\n",
       "      <th>...</th>\n",
       "      <td>...</td>\n",
       "      <td>...</td>\n",
       "      <td>...</td>\n",
       "      <td>...</td>\n",
       "      <td>...</td>\n",
       "      <td>...</td>\n",
       "      <td>...</td>\n",
       "    </tr>\n",
       "    <tr>\n",
       "      <th>10853</th>\n",
       "      <td>10854</td>\n",
       "      <td>2005-02-10 12:46:00</td>\n",
       "      <td>21.581</td>\n",
       "      <td>44.604</td>\n",
       "      <td>501.2</td>\n",
       "      <td>483.5</td>\n",
       "      <td>758.571469</td>\n",
       "    </tr>\n",
       "    <tr>\n",
       "      <th>10854</th>\n",
       "      <td>10855</td>\n",
       "      <td>2005-02-10 12:48:00</td>\n",
       "      <td>21.581</td>\n",
       "      <td>44.604</td>\n",
       "      <td>504.3</td>\n",
       "      <td>482.9</td>\n",
       "      <td>761.212958</td>\n",
       "    </tr>\n",
       "    <tr>\n",
       "      <th>10855</th>\n",
       "      <td>10856</td>\n",
       "      <td>2005-02-10 12:50:00</td>\n",
       "      <td>21.581</td>\n",
       "      <td>44.604</td>\n",
       "      <td>503.7</td>\n",
       "      <td>482.3</td>\n",
       "      <td>760.701702</td>\n",
       "    </tr>\n",
       "    <tr>\n",
       "      <th>10856</th>\n",
       "      <td>10857</td>\n",
       "      <td>2005-02-10 12:52:00</td>\n",
       "      <td>21.604</td>\n",
       "      <td>44.575</td>\n",
       "      <td>503.1</td>\n",
       "      <td>481.7</td>\n",
       "      <td>760.190446</td>\n",
       "    </tr>\n",
       "    <tr>\n",
       "      <th>10857</th>\n",
       "      <td>10858</td>\n",
       "      <td>2005-02-10 12:54:00</td>\n",
       "      <td>21.604</td>\n",
       "      <td>44.575</td>\n",
       "      <td>498.8</td>\n",
       "      <td>480.5</td>\n",
       "      <td>756.526446</td>\n",
       "    </tr>\n",
       "  </tbody>\n",
       "</table>\n",
       "<p>10858 rows × 7 columns</p>\n",
       "</div>"
      ],
      "text/plain": [
       "        test                time  temp C    RH %  CO2_1  CO2_2   calc_freq\n",
       "0          1 2010-04-17 11:00:00  20.650  35.046  452.4  689.9  716.989324\n",
       "1          2 2010-04-17 11:02:00  20.579  35.105  450.5  677.0  715.370347\n",
       "2          3 2010-04-17 11:04:00  20.507  35.229  450.5  663.6  715.370347\n",
       "3          4 2010-04-17 11:06:00  20.460  35.291  448.7  652.0  713.836580\n",
       "4          5 2010-04-17 11:08:00  20.412  35.352  442.0  641.0  708.127556\n",
       "...      ...                 ...     ...     ...    ...    ...         ...\n",
       "10853  10854 2005-02-10 12:46:00  21.581  44.604  501.2  483.5  758.571469\n",
       "10854  10855 2005-02-10 12:48:00  21.581  44.604  504.3  482.9  761.212958\n",
       "10855  10856 2005-02-10 12:50:00  21.581  44.604  503.7  482.3  760.701702\n",
       "10856  10857 2005-02-10 12:52:00  21.604  44.575  503.1  481.7  760.190446\n",
       "10857  10858 2005-02-10 12:54:00  21.604  44.575  498.8  480.5  756.526446\n",
       "\n",
       "[10858 rows x 7 columns]"
      ]
     },
     "execution_count": 198,
     "metadata": {},
     "output_type": "execute_result"
    }
   ],
   "source": [
    "#check the dataframe\n",
    "#calculated frequency values seem reasonable based on changes in CO2\n",
    "env"
   ]
  },
  {
   "cell_type": "markdown",
   "metadata": {},
   "source": [
    "## Visualizing the expected pitch values by time\n",
    "\n",
    "### 1. Plot calculated frequency, CO2 (ppm), and measured frequency values"
   ]
  },
  {
   "cell_type": "code",
   "execution_count": null,
   "metadata": {
    "collapsed": false
   },
   "outputs": [],
   "source": [
    "print(calc_freq)"
   ]
  },
  {
   "cell_type": "code",
   "execution_count": null,
   "metadata": {
    "collapsed": false
   },
   "outputs": [],
   "source": [
    "#define variables from dataframe columns\n",
    "CO2_1 = env[['CO2_1']]\n",
    "\n",
    "calc_freq=env[['calc_freq']]\n",
    "\n",
    "#measured_pitch = output_from_'pitch_data.py'\n"
   ]
  },
  {
   "cell_type": "code",
   "execution_count": null,
   "metadata": {
    "collapsed": false
   },
   "outputs": [],
   "source": [
    "#want to set x-axis as date_time\n",
    "#how do I format the ax2 y axis scale\n",
    "\n",
    "def make_plot(variable_1, variable_2):\n",
    "    '''Make a three variable plot with two axes'''\n",
    "#plot title\n",
    "    plt.title('CO2 and Calculated Pitch', fontsize='14')\n",
    "\n",
    "#twinx layering\n",
    "    ax1=plt.subplot()\n",
    "    ax2=ax1.twinx()\n",
    "\n",
    "#call data for the plot\n",
    "    ax1.plot(CO2_1, color='g', linewidth=1)\n",
    "    ax2.plot(calc_freq, color= 'm', linewidth=1) #variable_2, \n",
    "    #ax3.plot(measured_freq)\n",
    "\n",
    "#axis labeling\n",
    "    ax1.yaxis.set_tick_params(labelcolor='grey')\n",
    "    ax1.set_xlabel('Sample Number')\n",
    "    ax1.set_ylabel('CO2 (ppm)', fontsize=12, color = 'black')\n",
    "    ax2.set_ylabel('Calculated Pitch (Hz)', fontsize=12, color='black') # + '($^o$C)'\n",
    "    #ax3.set_ylabel('Measured Pitch')\n",
    "\n",
    "#axis limits\n",
    "    ax1.set_ylim([400,1300])\n",
    "    ax2.set_ylim([600, 1500])\n",
    "\n",
    "    #plt.savefig('../Figures/fig1.pdf')\n",
    "\n",
    "#Close function\n",
    "    return()#'../Figures/fig1.pdf')\n",
    "\n",
    "\n",
    "#Call my function\n",
    "make_plot(CO2_1, calc_freq)\n"
   ]
  },
  {
   "cell_type": "code",
   "execution_count": null,
   "metadata": {
    "collapsed": true
   },
   "outputs": [],
   "source": []
  },
  {
   "cell_type": "code",
   "execution_count": null,
   "metadata": {
    "collapsed": true
   },
   "outputs": [],
   "source": []
  },
  {
   "cell_type": "code",
   "execution_count": null,
   "metadata": {
    "collapsed": true
   },
   "outputs": [],
   "source": []
  },
  {
   "cell_type": "code",
   "execution_count": null,
   "metadata": {
    "collapsed": true
   },
   "outputs": [],
   "source": []
  },
  {
   "cell_type": "code",
   "execution_count": null,
   "metadata": {
    "collapsed": true
   },
   "outputs": [],
   "source": []
  },
  {
   "cell_type": "code",
   "execution_count": null,
   "metadata": {
    "collapsed": true
   },
   "outputs": [],
   "source": []
  },
  {
   "cell_type": "code",
   "execution_count": null,
   "metadata": {
    "collapsed": true
   },
   "outputs": [],
   "source": []
  },
  {
   "cell_type": "code",
   "execution_count": null,
   "metadata": {
    "collapsed": true
   },
   "outputs": [],
   "source": []
  },
  {
   "cell_type": "code",
   "execution_count": null,
   "metadata": {
    "collapsed": false
   },
   "outputs": [],
   "source": [
    "#def make_fig(datasets, variable_1, variable_2, savename):\n",
    "\n",
    "#twinx layering\n",
    "ax1=plt.subplot()\n",
    "ax2=ax1.twinx()\n",
    "\n",
    "#plot 2 variables in predertermined plot above\n",
    "ax1.plot(dataset.index, variable_1, 'k-', linewidth=2)\n",
    "ax2.plot(dataset.index, variable_2, )\n",
    "\n",
    "#moving plots lines\n",
    "variable_2_spine=ax2.spines['right']\n",
    "variable_2_spine.set_position(('axes', 1.2))\n",
    "\n",
    "ax1.yaxi.set_tick_params(labelcolor='k')\n",
    "ax1.set_ylabel(variable_1.name, fontsize=13, colour = 'k')\n",
    "ax2.sey_ylabel(variable_2.name + '($^o$C)', fontsize=13, color='grey')\n",
    "\n",
    "#plt.savefig(savename)\n",
    "return(savename)\n"
   ]
  },
  {
   "cell_type": "code",
   "execution_count": null,
   "metadata": {
    "collapsed": true
   },
   "outputs": [],
   "source": [
    "fig = plt.figure(figsize=(11,14))\n",
    "plt.suptitle('')\n",
    "\n",
    "ax1.plot(colum1, colum2, 'k-', linewidth=2)\n",
    "\" \"\n",
    "\n",
    "ax1.set_ylim([0,1])\n",
    "ax2.set_ylim([0,1])\n",
    "\n",
    "ax1.set_xlabel('name', fontsize=14, y=0)\n",
    "ax1.set_ylabel\n",
    "ax2.set_ylabel"
   ]
  },
  {
   "cell_type": "code",
   "execution_count": null,
   "metadata": {
    "collapsed": true
   },
   "outputs": [],
   "source": []
  },
  {
   "cell_type": "code",
   "execution_count": null,
   "metadata": {
    "collapsed": true
   },
   "outputs": [],
   "source": []
  },
  {
   "cell_type": "code",
   "execution_count": null,
   "metadata": {
    "collapsed": true
   },
   "outputs": [],
   "source": []
  },
  {
   "cell_type": "code",
   "execution_count": null,
   "metadata": {
    "collapsed": true
   },
   "outputs": [],
   "source": []
  },
  {
   "cell_type": "code",
   "execution_count": null,
   "metadata": {
    "collapsed": false
   },
   "outputs": [],
   "source": [
    "#convert 'object' (CO2_1) to float \n",
    "new = pd.Series([env.CO2_1], name = 'CO2_1')\n",
    "\n",
    "CO2_1 = new.tolist()\n",
    "\n",
    "CO2_array = np.array(CO2_1)\n",
    "\n",
    "#Test type of data in \"CO2_1\" column\n",
    "env.CO2_1.dtypes\n",
    "\n"
   ]
  },
  {
   "cell_type": "code",
   "execution_count": null,
   "metadata": {
    "collapsed": false
   },
   "outputs": [],
   "source": []
  },
  {
   "cell_type": "code",
   "execution_count": null,
   "metadata": {
    "collapsed": false
   },
   "outputs": [],
   "source": []
  },
  {
   "cell_type": "code",
   "execution_count": null,
   "metadata": {
    "collapsed": false
   },
   "outputs": [],
   "source": [
    "#How can I format it so it's not an object?\n",
    "\n",
    "cramer(CO2_array)"
   ]
  },
  {
   "cell_type": "code",
   "execution_count": null,
   "metadata": {
    "collapsed": true
   },
   "outputs": [],
   "source": []
  },
  {
   "cell_type": "code",
   "execution_count": null,
   "metadata": {
    "collapsed": true
   },
   "outputs": [],
   "source": []
  },
  {
   "cell_type": "code",
   "execution_count": null,
   "metadata": {
    "collapsed": true
   },
   "outputs": [],
   "source": []
  },
  {
   "cell_type": "code",
   "execution_count": null,
   "metadata": {
    "collapsed": false
   },
   "outputs": [],
   "source": [
    "#'float' object not callable--the data in \"CO2_1\" are objects and cannot be called into the equation\n",
    "#cramer(env.CO2_ave) "
   ]
  },
  {
   "cell_type": "code",
   "execution_count": null,
   "metadata": {
    "collapsed": false
   },
   "outputs": [],
   "source": [
    "env.dtypes"
   ]
  },
  {
   "cell_type": "code",
   "execution_count": null,
   "metadata": {
    "collapsed": false
   },
   "outputs": [],
   "source": [
    "env.CO2_1.dtypes"
   ]
  },
  {
   "cell_type": "code",
   "execution_count": null,
   "metadata": {
    "collapsed": false
   },
   "outputs": [],
   "source": [
    "new = pd.Series([env.CO2_1], name = 'CO2_1')\n",
    "\n",
    "CO2_1 = new.tolist()\n",
    "\n",
    "CO2_array = np.array(CO2_1)\n",
    "\n",
    "#Test type of data in \"CO2_1\" column\n",
    "env.CO2_1.dtypes"
   ]
  },
  {
   "cell_type": "code",
   "execution_count": null,
   "metadata": {
    "collapsed": false
   },
   "outputs": [],
   "source": [
    "cramer(CO2_array)"
   ]
  },
  {
   "cell_type": "code",
   "execution_count": null,
   "metadata": {
    "collapsed": false
   },
   "outputs": [],
   "source": [
    "type(CO2_array)"
   ]
  },
  {
   "cell_type": "code",
   "execution_count": null,
   "metadata": {
    "collapsed": true
   },
   "outputs": [],
   "source": []
  },
  {
   "cell_type": "code",
   "execution_count": null,
   "metadata": {
    "collapsed": true
   },
   "outputs": [],
   "source": []
  },
  {
   "cell_type": "code",
   "execution_count": null,
   "metadata": {
    "collapsed": true
   },
   "outputs": [],
   "source": []
  },
  {
   "cell_type": "code",
   "execution_count": null,
   "metadata": {
    "collapsed": true
   },
   "outputs": [],
   "source": []
  },
  {
   "cell_type": "code",
   "execution_count": null,
   "metadata": {
    "collapsed": true
   },
   "outputs": [],
   "source": []
  },
  {
   "cell_type": "code",
   "execution_count": 191,
   "metadata": {
    "collapsed": false
   },
   "outputs": [
    {
     "data": {
      "text/plain": [
       "<matplotlib.text.Text at 0x10a001c88>"
      ]
     },
     "execution_count": 191,
     "metadata": {},
     "output_type": "execute_result"
    },
    {
     "data": {
      "image/png": "[encoded data removed]",
      "text/plain": [
       "<matplotlib.figure.Figure at 0x10aaee748>"
      ]
     },
     "metadata": {},
     "output_type": "display_data"
    }
   ],
   "source": [
    "# To choose which CO2 value to use, I first visualize which seems normal \n",
    "\n",
    "#Create CO2-only dataframs\n",
    "CO2 = env[['CO2_1', 'CO2_2']]\n",
    "\n",
    "#Make a plot\n",
    "CO2_fig = plt.plot(CO2)\n",
    "\n",
    "plt.ylabel('CO2 (ppm)')\n",
    "plt.xlabel('Sample number')\n",
    "plt.title('Two CO2 sensors, same time and place')\n",
    "\n",
    "#plt.savefig('CO2_fig.pdf')"
   ]
  },
  {
   "cell_type": "code",
   "execution_count": null,
   "metadata": {
    "collapsed": true
   },
   "outputs": [],
   "source": []
  }
 ],
 "metadata": {
  "kernelspec": {
   "display_name": "Python 3",
   "language": "python",
   "name": "python3"
  },
  "language_info": {
   "codemirror_mode": {
    "name": "ipython",
    "version": 3
   },
   "file_extension": ".py",
   "mimetype": "text/x-python",
   "name": "python",
   "nbconvert_exporter": "python",
   "pygments_lexer": "ipython3",
   "version": "3.4.3"
  }
 },
 "nbformat": 4,
 "nbformat_minor": 0
}
